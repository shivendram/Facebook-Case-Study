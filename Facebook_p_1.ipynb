{
 "cells": [
  {
   "cell_type": "code",
   "execution_count": 176,
   "metadata": {},
   "outputs": [],
   "source": [
    "#Importing Libraries\n",
    "# please do go through this python notebook: \n",
    "import warnings\n",
    "warnings.filterwarnings(\"ignore\")\n",
    "\n",
    "import csv\n",
    "import pandas as pd#pandas to create small dataframes \n",
    "import datetime #Convert to unix time\n",
    "import time #Convert to unix time\n",
    "# if numpy is not installed already : pip3 install numpy\n",
    "import numpy as np#Do aritmetic operations on arrays\n",
    "# matplotlib: used to plot graphs\n",
    "import matplotlib\n",
    "import matplotlib.pylab as plt\n",
    "import seaborn as sns#Plots\n",
    "from matplotlib import rcParams#Size of plots  \n",
    "from sklearn.cluster import MiniBatchKMeans, KMeans#Clustering\n",
    "import math\n",
    "import pickle\n",
    "import os\n",
    "# to install xgboost: pip3 install xgboost\n",
    "import xgboost as xgb\n",
    "from tqdm import tqdm\n",
    "import warnings\n",
    "import networkx as nx\n",
    "import pdb\n",
    "import pickle\n",
    "from scipy.sparse.linalg import svds, eigs\n",
    "from sklearn.ensemble import RandomForestClassifier\n",
    "from sklearn.metrics import f1_score\n",
    "from sklearn.calibration import CalibratedClassifierCV\n",
    "from sklearn.metrics import accuracy_score\n",
    "from sklearn.metrics import confusion_matrix\n",
    "import xgboost as xgb\n",
    "from xgboost import XGBClassifier\n",
    "from sklearn.metrics import log_loss"
   ]
  },
  {
   "cell_type": "code",
   "execution_count": 2,
   "metadata": {},
   "outputs": [],
   "source": [
    "train_csv = pd.read_csv('train.csv')"
   ]
  },
  {
   "cell_type": "code",
   "execution_count": 3,
   "metadata": {},
   "outputs": [
    {
     "data": {
      "text/html": [
       "<div>\n",
       "<style scoped>\n",
       "    .dataframe tbody tr th:only-of-type {\n",
       "        vertical-align: middle;\n",
       "    }\n",
       "\n",
       "    .dataframe tbody tr th {\n",
       "        vertical-align: top;\n",
       "    }\n",
       "\n",
       "    .dataframe thead th {\n",
       "        text-align: right;\n",
       "    }\n",
       "</style>\n",
       "<table border=\"1\" class=\"dataframe\">\n",
       "  <thead>\n",
       "    <tr style=\"text-align: right;\">\n",
       "      <th></th>\n",
       "      <th>source_node</th>\n",
       "      <th>destination_node</th>\n",
       "    </tr>\n",
       "  </thead>\n",
       "  <tbody>\n",
       "    <tr>\n",
       "      <th>0</th>\n",
       "      <td>1</td>\n",
       "      <td>690569</td>\n",
       "    </tr>\n",
       "    <tr>\n",
       "      <th>1</th>\n",
       "      <td>1</td>\n",
       "      <td>315892</td>\n",
       "    </tr>\n",
       "    <tr>\n",
       "      <th>2</th>\n",
       "      <td>1</td>\n",
       "      <td>189226</td>\n",
       "    </tr>\n",
       "    <tr>\n",
       "      <th>3</th>\n",
       "      <td>2</td>\n",
       "      <td>834328</td>\n",
       "    </tr>\n",
       "    <tr>\n",
       "      <th>4</th>\n",
       "      <td>2</td>\n",
       "      <td>1615927</td>\n",
       "    </tr>\n",
       "  </tbody>\n",
       "</table>\n",
       "</div>"
      ],
      "text/plain": [
       "   source_node  destination_node\n",
       "0            1            690569\n",
       "1            1            315892\n",
       "2            1            189226\n",
       "3            2            834328\n",
       "4            2           1615927"
      ]
     },
     "execution_count": 3,
     "metadata": {},
     "output_type": "execute_result"
    }
   ],
   "source": [
    "train_csv.head(5)"
   ]
  },
  {
   "cell_type": "markdown",
   "metadata": {},
   "source": [
    "# Checking for NA values"
   ]
  },
  {
   "cell_type": "code",
   "execution_count": 4,
   "metadata": {},
   "outputs": [
    {
     "data": {
      "text/html": [
       "<div>\n",
       "<style scoped>\n",
       "    .dataframe tbody tr th:only-of-type {\n",
       "        vertical-align: middle;\n",
       "    }\n",
       "\n",
       "    .dataframe tbody tr th {\n",
       "        vertical-align: top;\n",
       "    }\n",
       "\n",
       "    .dataframe thead th {\n",
       "        text-align: right;\n",
       "    }\n",
       "</style>\n",
       "<table border=\"1\" class=\"dataframe\">\n",
       "  <thead>\n",
       "    <tr style=\"text-align: right;\">\n",
       "      <th></th>\n",
       "      <th>source_node</th>\n",
       "      <th>destination_node</th>\n",
       "    </tr>\n",
       "  </thead>\n",
       "  <tbody>\n",
       "  </tbody>\n",
       "</table>\n",
       "</div>"
      ],
      "text/plain": [
       "Empty DataFrame\n",
       "Columns: [source_node, destination_node]\n",
       "Index: []"
      ]
     },
     "execution_count": 4,
     "metadata": {},
     "output_type": "execute_result"
    }
   ],
   "source": [
    "train_csv[train_csv.isna().any(1)]"
   ]
  },
  {
   "cell_type": "markdown",
   "metadata": {},
   "source": [
    "# Checking for duplicate values"
   ]
  },
  {
   "cell_type": "code",
   "execution_count": 5,
   "metadata": {},
   "outputs": [
    {
     "data": {
      "text/plain": [
       "0"
      ]
     },
     "execution_count": 5,
     "metadata": {},
     "output_type": "execute_result"
    }
   ],
   "source": [
    "sum(train_csv.duplicated())"
   ]
  },
  {
   "cell_type": "markdown",
   "metadata": {},
   "source": [
    "### Gathering info"
   ]
  },
  {
   "cell_type": "code",
   "execution_count": 6,
   "metadata": {},
   "outputs": [],
   "source": [
    "g = nx.read_edgelist('train_woheader.csv',delimiter=',',create_using=nx.DiGraph())"
   ]
  },
  {
   "cell_type": "code",
   "execution_count": 7,
   "metadata": {},
   "outputs": [
    {
     "name": "stdout",
     "output_type": "stream",
     "text": [
      "Name: \n",
      "Type: DiGraph\n",
      "Number of nodes: 1862220\n",
      "Number of edges: 9437519\n",
      "Average in degree:   5.0679\n",
      "Average out degree:   5.0679\n"
     ]
    }
   ],
   "source": [
    "print(nx.info(g))"
   ]
  },
  {
   "cell_type": "markdown",
   "metadata": {},
   "source": [
    "# Exploratory data Analysis"
   ]
  },
  {
   "cell_type": "markdown",
   "metadata": {},
   "source": [
    "### Number of users"
   ]
  },
  {
   "cell_type": "code",
   "execution_count": 8,
   "metadata": {},
   "outputs": [
    {
     "name": "stdout",
     "output_type": "stream",
     "text": [
      "Total number of users:  1862220\n"
     ]
    }
   ],
   "source": [
    "print(\"Total number of users: \",len(g.nodes()))"
   ]
  },
  {
   "cell_type": "markdown",
   "metadata": {},
   "source": [
    "### Number of followers for each person"
   ]
  },
  {
   "cell_type": "code",
   "execution_count": 9,
   "metadata": {},
   "outputs": [],
   "source": [
    "followers = list(dict(g.in_degree()).values())"
   ]
  },
  {
   "cell_type": "code",
   "execution_count": 10,
   "metadata": {},
   "outputs": [],
   "source": [
    "followers.sort()"
   ]
  },
  {
   "cell_type": "code",
   "execution_count": 11,
   "metadata": {},
   "outputs": [
    {
     "data": {
      "image/png": "[encoded data removed]",
      "text/plain": [
       "<Figure size 720x432 with 1 Axes>"
      ]
     },
     "metadata": {
      "needs_background": "light"
     },
     "output_type": "display_data"
    }
   ],
   "source": [
    "plt.figure(figsize=(10,6))\n",
    "plt.plot(followers)\n",
    "plt.xlabel('Index No')\n",
    "plt.ylabel('No Of Followers')\n",
    "plt.show()"
   ]
  },
  {
   "cell_type": "markdown",
   "metadata": {},
   "source": [
    "###  Analysing till 1.5M index"
   ]
  },
  {
   "cell_type": "code",
   "execution_count": 12,
   "metadata": {},
   "outputs": [
    {
     "data": {
      "image/png": "[encoded data removed]",
      "text/plain": [
       "<Figure size 720x432 with 1 Axes>"
      ]
     },
     "metadata": {
      "needs_background": "light"
     },
     "output_type": "display_data"
    }
   ],
   "source": [
    "plt.figure(figsize=(10,6))\n",
    "plt.plot(followers[:1500000])\n",
    "plt.xlabel('Index No')\n",
    "plt.ylabel('No Of Followers')\n",
    "plt.show()"
   ]
  },
  {
   "cell_type": "code",
   "execution_count": 13,
   "metadata": {},
   "outputs": [
    {
     "name": "stdout",
     "output_type": "stream",
     "text": [
      "91 percentile value is:  13.0\n",
      "92 percentile value is:  14.0\n",
      "93 percentile value is:  15.0\n",
      "94 percentile value is:  17.0\n",
      "95 percentile value is:  19.0\n",
      "96 percentile value is:  21.0\n",
      "97 percentile value is:  24.0\n",
      "98 percentile value is:  29.0\n",
      "99 percentile value is:  40.0\n",
      "100 percentile value is:  552.0\n"
     ]
    }
   ],
   "source": [
    "for i in range(1,11):\n",
    "    print(90+i,'percentile value is: ',np.percentile(followers,(90+i)))"
   ]
  },
  {
   "cell_type": "markdown",
   "metadata": {},
   "source": [
    "#### 99% of users have only 40 followers"
   ]
  },
  {
   "cell_type": "code",
   "execution_count": 14,
   "metadata": {},
   "outputs": [
    {
     "name": "stdout",
     "output_type": "stream",
     "text": [
      "99.1 percentile value is:  42.0\n",
      "99.2 percentile value is:  44.0\n",
      "99.3 percentile value is:  47.0\n",
      "99.4 percentile value is:  50.0\n",
      "99.5 percentile value is:  55.0\n",
      "99.6 percentile value is:  61.0\n",
      "99.7 percentile value is:  70.0\n",
      "99.8 percentile value is:  84.0\n",
      "99.9 percentile value is:  112.0\n",
      "100.0 percentile value is:  552.0\n"
     ]
    }
   ],
   "source": [
    "for i in range(1,11):\n",
    "    print(99+i/10,'percentile value is: ',np.percentile(followers,(99+i/10)))"
   ]
  },
  {
   "cell_type": "markdown",
   "metadata": {},
   "source": [
    "#### 99.9% of users have only 112 followers"
   ]
  },
  {
   "cell_type": "code",
   "execution_count": 15,
   "metadata": {},
   "outputs": [
    {
     "data": {
      "text/plain": [
       "Text(0.5, 0, 'PDF of followers')"
      ]
     },
     "execution_count": 15,
     "metadata": {},
     "output_type": "execute_result"
    },
    {
     "data": {
      "image/png": "[encoded data removed]",
      "text/plain": [
       "<Figure size 842.4x595.44 with 1 Axes>"
      ]
     },
     "metadata": {},
     "output_type": "display_data"
    }
   ],
   "source": [
    "sns.set_style('ticks')\n",
    "fig, ax = plt.subplots()\n",
    "fig.set_size_inches(11.7, 8.27)\n",
    "sns.distplot(followers)\n",
    "plt.xlabel('PDF of followers')"
   ]
  },
  {
   "cell_type": "markdown",
   "metadata": {},
   "source": [
    "### Number of following for each person"
   ]
  },
  {
   "cell_type": "code",
   "execution_count": 16,
   "metadata": {},
   "outputs": [],
   "source": [
    "following = list(dict(g.out_degree()).values())"
   ]
  },
  {
   "cell_type": "code",
   "execution_count": 17,
   "metadata": {},
   "outputs": [],
   "source": [
    "following.sort()"
   ]
  },
  {
   "cell_type": "code",
   "execution_count": 18,
   "metadata": {},
   "outputs": [
    {
     "data": {
      "image/png": "[encoded data removed]",
      "text/plain": [
       "<Figure size 720x432 with 1 Axes>"
      ]
     },
     "metadata": {},
     "output_type": "display_data"
    }
   ],
   "source": [
    "plt.figure(figsize=(10,6))\n",
    "plt.plot(following)\n",
    "plt.xlabel('Index No')\n",
    "plt.ylabel('No Of Following')\n",
    "plt.show()"
   ]
  },
  {
   "cell_type": "markdown",
   "metadata": {},
   "source": [
    "###  Analysing till 1.5M index"
   ]
  },
  {
   "cell_type": "code",
   "execution_count": 19,
   "metadata": {},
   "outputs": [
    {
     "data": {
      "image/png": "[encoded data removed]",
      "text/plain": [
       "<Figure size 720x432 with 1 Axes>"
      ]
     },
     "metadata": {},
     "output_type": "display_data"
    }
   ],
   "source": [
    "plt.figure(figsize=(10,6))\n",
    "plt.plot(following[:1500000])\n",
    "plt.xlabel('Index No')\n",
    "plt.ylabel('No Of Following')\n",
    "plt.show()"
   ]
  },
  {
   "cell_type": "code",
   "execution_count": 20,
   "metadata": {},
   "outputs": [
    {
     "name": "stdout",
     "output_type": "stream",
     "text": [
      "91 percentile value is:  13.0\n",
      "92 percentile value is:  14.0\n",
      "93 percentile value is:  15.0\n",
      "94 percentile value is:  17.0\n",
      "95 percentile value is:  19.0\n",
      "96 percentile value is:  21.0\n",
      "97 percentile value is:  24.0\n",
      "98 percentile value is:  29.0\n",
      "99 percentile value is:  40.0\n",
      "100 percentile value is:  1566.0\n"
     ]
    }
   ],
   "source": [
    "for i in range(1,11):\n",
    "    print(90+i,'percentile value is: ',np.percentile(following,(90+i)))"
   ]
  },
  {
   "cell_type": "code",
   "execution_count": 21,
   "metadata": {},
   "outputs": [
    {
     "name": "stdout",
     "output_type": "stream",
     "text": [
      "99.1 percentile value is:  42.0\n",
      "99.2 percentile value is:  45.0\n",
      "99.3 percentile value is:  48.0\n",
      "99.4 percentile value is:  52.0\n",
      "99.5 percentile value is:  56.0\n",
      "99.6 percentile value is:  63.0\n",
      "99.7 percentile value is:  73.0\n",
      "99.8 percentile value is:  90.0\n",
      "99.9 percentile value is:  123.0\n",
      "100.0 percentile value is:  1566.0\n"
     ]
    }
   ],
   "source": [
    "for i in range(1,11):\n",
    "    print(99+i/10,'percentile value is: ',np.percentile(following,(99+i/10)))"
   ]
  },
  {
   "cell_type": "markdown",
   "metadata": {},
   "source": [
    "#### 99.9 % users have uptill 123 following"
   ]
  },
  {
   "cell_type": "code",
   "execution_count": 22,
   "metadata": {},
   "outputs": [
    {
     "data": {
      "text/plain": [
       "Text(0.5, 0, 'PDF of following')"
      ]
     },
     "execution_count": 22,
     "metadata": {},
     "output_type": "execute_result"
    },
    {
     "data": {
      "image/png": "[encoded data removed]",
      "text/plain": [
       "<Figure size 842.4x595.44 with 1 Axes>"
      ]
     },
     "metadata": {},
     "output_type": "display_data"
    }
   ],
   "source": [
    "sns.set_style('ticks')\n",
    "fig, ax = plt.subplots()\n",
    "fig.set_size_inches(11.7, 8.27)\n",
    "sns.distplot(following)\n",
    "plt.xlabel('PDF of following')"
   ]
  },
  {
   "cell_type": "code",
   "execution_count": 23,
   "metadata": {},
   "outputs": [
    {
     "name": "stdout",
     "output_type": "stream",
     "text": [
      "Number of people who are not following anyone:  274512  and % is  14.741115442858524\n"
     ]
    }
   ],
   "source": [
    "print('Number of people who are not following anyone: ',sum(np.array(following)==0),' and % is ',(sum(np.array(following)==0)/len(following)*100))"
   ]
  },
  {
   "cell_type": "code",
   "execution_count": 24,
   "metadata": {},
   "outputs": [
    {
     "name": "stdout",
     "output_type": "stream",
     "text": [
      "No of persons having zero followers are 188043 and % is 10.097786512871734\n"
     ]
    }
   ],
   "source": [
    "print('No of persons having zero followers are' ,sum(np.array(followers)==0),'and % is',\n",
    "                                sum(np.array(followers)==0)*100/len(followers) )"
   ]
  },
  {
   "cell_type": "code",
   "execution_count": 25,
   "metadata": {},
   "outputs": [],
   "source": [
    "count = 0\n",
    "for i in g.nodes():\n",
    "    if len(list(g.predecessors(i)))==0:\n",
    "        if len(list(g.successors(i)))==0:\n",
    "            count+=1"
   ]
  },
  {
   "cell_type": "code",
   "execution_count": 26,
   "metadata": {},
   "outputs": [
    {
     "name": "stdout",
     "output_type": "stream",
     "text": [
      "No of persons those are not not following anyone and also not having any followers are 0\n"
     ]
    }
   ],
   "source": [
    "print('No of persons those are not not following anyone and also not having any followers are',count)"
   ]
  },
  {
   "cell_type": "markdown",
   "metadata": {},
   "source": [
    "### Follower + Followees for each node"
   ]
  },
  {
   "cell_type": "code",
   "execution_count": 27,
   "metadata": {},
   "outputs": [],
   "source": [
    "from collections import Counter\n",
    "dict_in = dict(g.in_degree)\n",
    "dict_out = dict(g.out_degree)\n",
    "d = Counter(dict_in)+ Counter(dict_out)"
   ]
  },
  {
   "cell_type": "code",
   "execution_count": 28,
   "metadata": {},
   "outputs": [],
   "source": [
    "follower_followees  = list(d.values())"
   ]
  },
  {
   "cell_type": "code",
   "execution_count": 29,
   "metadata": {},
   "outputs": [],
   "source": [
    "follower_followees.sort()"
   ]
  },
  {
   "cell_type": "code",
   "execution_count": 30,
   "metadata": {},
   "outputs": [
    {
     "data": {
      "image/png": "[encoded data removed]",
      "text/plain": [
       "<Figure size 720x432 with 1 Axes>"
      ]
     },
     "metadata": {},
     "output_type": "display_data"
    }
   ],
   "source": [
    "plt.figure(figsize=(10,6))\n",
    "plt.plot(follower_followees)\n",
    "plt.xlabel('Index No')\n",
    "plt.ylabel('Total No Of Followers + Following')\n",
    "plt.show()"
   ]
  },
  {
   "cell_type": "code",
   "execution_count": 31,
   "metadata": {},
   "outputs": [
    {
     "data": {
      "image/png": "[encoded data removed]",
      "text/plain": [
       "<Figure size 720x432 with 1 Axes>"
      ]
     },
     "metadata": {},
     "output_type": "display_data"
    }
   ],
   "source": [
    "plt.figure(figsize=(10,6))\n",
    "plt.plot(follower_followees[:1500000])\n",
    "plt.xlabel('Index No')\n",
    "plt.ylabel('No Of Following')\n",
    "plt.show()"
   ]
  },
  {
   "cell_type": "code",
   "execution_count": 32,
   "metadata": {},
   "outputs": [
    {
     "name": "stdout",
     "output_type": "stream",
     "text": [
      "91 percentile value is:  26.0\n",
      "92 percentile value is:  28.0\n",
      "93 percentile value is:  31.0\n",
      "94 percentile value is:  33.0\n",
      "95 percentile value is:  37.0\n",
      "96 percentile value is:  41.0\n",
      "97 percentile value is:  48.0\n",
      "98 percentile value is:  58.0\n",
      "99 percentile value is:  79.0\n",
      "100 percentile value is:  1579.0\n"
     ]
    }
   ],
   "source": [
    "for i in range(1,11):\n",
    "    print(90+i,'percentile value is: ',np.percentile(follower_followees,(90+i)))"
   ]
  },
  {
   "cell_type": "code",
   "execution_count": 33,
   "metadata": {},
   "outputs": [
    {
     "name": "stdout",
     "output_type": "stream",
     "text": [
      "99.1 percentile value is:  83.0\n",
      "99.2 percentile value is:  87.0\n",
      "99.3 percentile value is:  93.0\n",
      "99.4 percentile value is:  99.0\n",
      "99.5 percentile value is:  108.0\n",
      "99.6 percentile value is:  120.0\n",
      "99.7 percentile value is:  138.0\n",
      "99.8 percentile value is:  168.0\n",
      "99.9 percentile value is:  221.0\n",
      "100.0 percentile value is:  1579.0\n"
     ]
    }
   ],
   "source": [
    "for i in range(1,11):\n",
    "    print(99+i/10,'percentile value is: ',np.percentile(follower_followees,(99+i/10)))"
   ]
  },
  {
   "cell_type": "code",
   "execution_count": 34,
   "metadata": {},
   "outputs": [
    {
     "data": {
      "text/plain": [
       "Text(0.5, 0, 'PDF of following+followers')"
      ]
     },
     "execution_count": 34,
     "metadata": {},
     "output_type": "execute_result"
    },
    {
     "data": {
      "image/png": "[encoded data removed]",
      "text/plain": [
       "<Figure size 842.4x595.44 with 1 Axes>"
      ]
     },
     "metadata": {},
     "output_type": "display_data"
    }
   ],
   "source": [
    "sns.set_style('ticks')\n",
    "fig, ax = plt.subplots()\n",
    "fig.set_size_inches(11.7, 8.27)\n",
    "sns.distplot(following)\n",
    "plt.xlabel('PDF of following+followers')"
   ]
  },
  {
   "cell_type": "code",
   "execution_count": 35,
   "metadata": {},
   "outputs": [
    {
     "name": "stdout",
     "output_type": "stream",
     "text": [
      "Min number of followers + following:  1\n"
     ]
    }
   ],
   "source": [
    "print('Min number of followers + following: ',min(follower_followees))"
   ]
  },
  {
   "cell_type": "code",
   "execution_count": 36,
   "metadata": {},
   "outputs": [
    {
     "name": "stdout",
     "output_type": "stream",
     "text": [
      "users with just one follower + followee in %:  17.951208772325504\n"
     ]
    }
   ],
   "source": [
    "print('users with just one follower + followee in %: ',np.sum(np.array(follower_followees)==1)/len(follower_followees)*100)"
   ]
  },
  {
   "cell_type": "code",
   "execution_count": 37,
   "metadata": {},
   "outputs": [
    {
     "name": "stdout",
     "output_type": "stream",
     "text": [
      "Max number of follower + following:  1579\n"
     ]
    }
   ],
   "source": [
    "print('Max number of follower + following: ',max(follower_followees))"
   ]
  },
  {
   "cell_type": "code",
   "execution_count": 38,
   "metadata": {},
   "outputs": [
    {
     "name": "stdout",
     "output_type": "stream",
     "text": [
      "user with max follower+following:  1\n"
     ]
    }
   ],
   "source": [
    "print('user with max follower+following: ',np.sum(np.array(follower_followees)==1579))"
   ]
  },
  {
   "cell_type": "markdown",
   "metadata": {},
   "source": [
    "##  Generating some edges which are not present in graph for supervised learning  \n",
    "Generated Bad links from graph which are not in graph and whose shortest path is greater than 2. "
   ]
  },
  {
   "cell_type": "code",
   "execution_count": 39,
   "metadata": {},
   "outputs": [
    {
     "name": "stdout",
     "output_type": "stream",
     "text": [
      "Wall time: 1.89 s\n"
     ]
    }
   ],
   "source": [
    "%%time\n",
    "###generating bad edges from given graph\n",
    "import random\n",
    "if not os.path.isfile('missing_edges_final.p'):\n",
    "    #getting all set of edges\n",
    "    r = csv.reader(open('train_woheader.csv','r'))\n",
    "    edges = dict()\n",
    "    for edge in r:\n",
    "        edges[(edge[0], edge[1])] = 1\n",
    "        \n",
    "        \n",
    "    missing_edges = set([])\n",
    "    while (len(missing_edges)<9437519):\n",
    "        a=random.randint(1, 1862220)\n",
    "        b=random.randint(1, 1862220)\n",
    "        tmp = edges.get((a,b),-1)\n",
    "        if tmp == -1 and a!=b:\n",
    "            try:\n",
    "                if nx.shortest_path_length(g,source=a,target=b) > 2: \n",
    "\n",
    "                    missing_edges.add((a,b))\n",
    "                else:\n",
    "                    continue  \n",
    "            except:  \n",
    "                    missing_edges.add((a,b))              \n",
    "        else:\n",
    "            continue\n",
    "    pickle.dump(missing_edges,open('missing_edges_final.p','wb'))\n",
    "else:\n",
    "    missing_edges = pickle.load(open('missing_edges_final.p','rb'))"
   ]
  },
  {
   "cell_type": "code",
   "execution_count": 40,
   "metadata": {},
   "outputs": [
    {
     "data": {
      "text/plain": [
       "9437519"
      ]
     },
     "execution_count": 40,
     "metadata": {},
     "output_type": "execute_result"
    }
   ],
   "source": [
    "len(missing_edges)"
   ]
  },
  {
   "cell_type": "markdown",
   "metadata": {},
   "source": [
    "# Train and Test split"
   ]
  },
  {
   "cell_type": "code",
   "execution_count": 41,
   "metadata": {},
   "outputs": [
    {
     "name": "stdout",
     "output_type": "stream",
     "text": [
      "Number of nodes in the graph with edges 9437519\n",
      "Number of nodes in the graph without edges 9437519\n",
      "============================================================\n",
      "Number of nodes in the train data graph with edges 7550015 = 7550015\n",
      "Number of nodes in the train data graph without edges 7550015 = 7550015\n",
      "============================================================\n",
      "Number of nodes in the test data graph with edges 1887504 = 1887504\n",
      "Number of nodes in the test data graph without edges 1887504 = 1887504\n"
     ]
    }
   ],
   "source": [
    "from sklearn.model_selection import train_test_split\n",
    "if (os.path.isfile('train_pos_after_eda.csv')) and (os.path.isfile('test_pos_after_eda.csv')):\n",
    "    #reading total data df\n",
    "    df_pos = pd.read_csv('train.csv')\n",
    "    df_neg = pd.DataFrame(list(missing_edges), columns=['source_node', 'destination_node'])\n",
    "    \n",
    "    print(\"Number of nodes in the graph with edges\", df_pos.shape[0])\n",
    "    print(\"Number of nodes in the graph without edges\", df_neg.shape[0])\n",
    "    \n",
    "    #Trian test split \n",
    "    #Spiltted data into 80-20 \n",
    "    #positive links and negative links seperatly because we need positive training data only for creating graph \n",
    "    #and for feature generation\n",
    "    X_train_pos, X_test_pos, y_train_pos, y_test_pos  = train_test_split(df_pos,np.ones(len(df_pos)),test_size=0.2, random_state=9)\n",
    "    X_train_neg, X_test_neg, y_train_neg, y_test_neg  = train_test_split(df_neg,np.zeros(len(df_neg)),test_size=0.2, random_state=9)\n",
    "    \n",
    "    print('='*60)\n",
    "    print(\"Number of nodes in the train data graph with edges\", X_train_pos.shape[0],\"=\",y_train_pos.shape[0])\n",
    "    print(\"Number of nodes in the train data graph without edges\", X_train_neg.shape[0],\"=\", y_train_neg.shape[0])\n",
    "    print('='*60)\n",
    "    print(\"Number of nodes in the test data graph with edges\", X_test_pos.shape[0],\"=\",y_test_pos.shape[0])\n",
    "    print(\"Number of nodes in the test data graph without edges\", X_test_neg.shape[0],\"=\",y_test_neg.shape[0])"
   ]
  },
  {
   "cell_type": "code",
   "execution_count": 42,
   "metadata": {},
   "outputs": [
    {
     "name": "stdout",
     "output_type": "stream",
     "text": [
      "Name: \n",
      "Type: DiGraph\n",
      "Number of nodes: 1780722\n",
      "Number of edges: 7550015\n",
      "Average in degree:   4.2399\n",
      "Average out degree:   4.2399\n",
      "Name: \n",
      "Type: DiGraph\n",
      "Number of nodes: 1144623\n",
      "Number of edges: 1887504\n",
      "Average in degree:   1.6490\n",
      "Average out degree:   1.6490\n",
      "no of people common in train and test --  1063125\n",
      "no of people present in train but not present in test --  717597\n",
      "no of people present in test but not present in train --  81498\n",
      " % of people not there in Train but exist in Test in total Test data are 7.1200735962845405 %\n"
     ]
    }
   ],
   "source": [
    "train_graph=nx.read_edgelist('train_pos_after_eda.csv',delimiter=',',create_using=nx.DiGraph(),nodetype=int)\n",
    "test_graph=nx.read_edgelist('test_pos_after_eda.csv',delimiter=',',create_using=nx.DiGraph(),nodetype=int)\n",
    "print(nx.info(train_graph))\n",
    "print(nx.info(test_graph))\n",
    "\n",
    "# finding the unique nodes in the both train and test graphs\n",
    "train_nodes_pos = set(train_graph.nodes())\n",
    "test_nodes_pos = set(test_graph.nodes())\n",
    "\n",
    "trY_teY = len(train_nodes_pos.intersection(test_nodes_pos))\n",
    "trY_teN = len(train_nodes_pos - test_nodes_pos)\n",
    "teY_trN = len(test_nodes_pos - train_nodes_pos)\n",
    "\n",
    "print('no of people common in train and test -- ',trY_teY)\n",
    "print('no of people present in train but not present in test -- ',trY_teN)\n",
    "\n",
    "print('no of people present in test but not present in train -- ',teY_trN)\n",
    "print(' % of people not there in Train but exist in Test in total Test data are {} %'.format(teY_trN/len(test_nodes_pos)*100))"
   ]
  },
  {
   "cell_type": "code",
   "execution_count": 43,
   "metadata": {},
   "outputs": [
    {
     "name": "stdout",
     "output_type": "stream",
     "text": [
      "============================================================\n",
      "Number of nodes in the train data graph with edges 7550015\n",
      "Number of nodes in the train data graph without edges 7550015\n",
      "============================================================\n",
      "Number of nodes in the test data graph with edges 1887504\n",
      "Number of nodes in the test data graph without edges 1887504\n"
     ]
    }
   ],
   "source": [
    "X_train_pos = pd.read_csv('train_pos_after_eda.csv', names=['source_node', 'destination_node'])\n",
    "X_test_pos = pd.read_csv('test_pos_after_eda.csv', names=['source_node', 'destination_node'])\n",
    "X_train_neg = pd.read_csv('train_neg_after_eda.csv', names=['source_node', 'destination_node'])\n",
    "X_test_neg = pd.read_csv('test_neg_after_eda.csv', names=['source_node', 'destination_node'])\n",
    "\n",
    "print('='*60)\n",
    "print(\"Number of nodes in the train data graph with edges\", X_train_pos.shape[0])\n",
    "print(\"Number of nodes in the train data graph without edges\", X_train_neg.shape[0])\n",
    "print('='*60)\n",
    "print(\"Number of nodes in the test data graph with edges\", X_test_pos.shape[0])\n",
    "print(\"Number of nodes in the test data graph without edges\", X_test_neg.shape[0])\n",
    "\n",
    "X_train = X_train_pos.append(X_train_neg,ignore_index=True)\n",
    "y_train = np.concatenate((y_train_pos,y_train_neg))\n",
    "X_test = X_test_pos.append(X_test_neg,ignore_index=True)\n",
    "y_test = np.concatenate((y_test_pos,y_test_neg)) "
   ]
  },
  {
   "cell_type": "code",
   "execution_count": 44,
   "metadata": {},
   "outputs": [
    {
     "name": "stdout",
     "output_type": "stream",
     "text": [
      "Data points in train data (15100030, 2)\n",
      "Data points in test data (3775008, 2)\n",
      "Shape of traget variable in train (15100030,)\n",
      "Shape of traget variable in test (3775008,)\n"
     ]
    }
   ],
   "source": [
    "print(\"Data points in train data\",X_train.shape)\n",
    "print(\"Data points in test data\",X_test.shape)\n",
    "print(\"Shape of traget variable in train\",y_train.shape)\n",
    "print(\"Shape of traget variable in test\", y_test.shape)"
   ]
  },
  {
   "cell_type": "markdown",
   "metadata": {},
   "source": [
    "# Feature Creation"
   ]
  },
  {
   "cell_type": "code",
   "execution_count": 45,
   "metadata": {},
   "outputs": [
    {
     "name": "stdout",
     "output_type": "stream",
     "text": [
      "Name: \n",
      "Type: DiGraph\n",
      "Number of nodes: 1780722\n",
      "Number of edges: 7550015\n",
      "Average in degree:   4.2399\n",
      "Average out degree:   4.2399\n"
     ]
    }
   ],
   "source": [
    "train_graph=nx.read_edgelist('train_pos_after_eda.csv',delimiter=',',create_using=nx.DiGraph(),nodetype=int)\n",
    "print(nx.info(train_graph))"
   ]
  },
  {
   "cell_type": "markdown",
   "metadata": {},
   "source": [
    "## Jaccard Index\n",
    "The Jaccard similarity index (sometimes called the Jaccard similarity coefficient) compares members for two sets to see which members are shared and which are distinct. It’s a measure of similarity for the two sets of data, with a range from 0% to 100%. The higher the percentage, the more similar the two populations. \n",
    "\n",
    "\\begin{equation}\n",
    "j = \\frac{|X\\cap Y|}{|X \\cup Y|} \n",
    "\\end{equation}\n",
    "\n",
    "via: http://www.statisticshowto.com/jaccard-index/"
   ]
  },
  {
   "cell_type": "code",
   "execution_count": 46,
   "metadata": {},
   "outputs": [],
   "source": [
    "def jaccard_for_followers(a,b):\n",
    "    try:\n",
    "        if len(set(train_graph.predecessors(a))) ==0 | len(set(train_graph.predecessors(b))) ==0:\n",
    "            return 0\n",
    "        else:\n",
    "            sim = (len(set(train_graph.predecessors(a)).intersection(set(train_graph.predecessors(b)))))/\\\n",
    "                                    (len(set(train_graph.predecessors(a)).union(set(train_graph.predecessors(b)))))\n",
    "        return sim\n",
    "    \n",
    "    except:\n",
    "        \n",
    "        return 0\n"
   ]
  },
  {
   "cell_type": "code",
   "execution_count": 47,
   "metadata": {},
   "outputs": [
    {
     "data": {
      "text/plain": [
       "0.045454545454545456"
      ]
     },
     "execution_count": 47,
     "metadata": {},
     "output_type": "execute_result"
    }
   ],
   "source": [
    "jaccard_for_followers(2,470294)"
   ]
  },
  {
   "cell_type": "code",
   "execution_count": 48,
   "metadata": {},
   "outputs": [],
   "source": [
    "def jaccard_for_followees(a,b):\n",
    "    try:\n",
    "        if len(set(train_graph.successors(a))) ==0 | len(set(train_graph.successors(b))) ==0:\n",
    "            return 0\n",
    "        else:\n",
    "            sim = (len(set(train_graph.successors(a)).intersection(set(train_graph.successors(b)))))/\\\n",
    "                                    (len(set(train_graph.successors(a)).union(set(train_graph.successors(b)))))\n",
    "        return sim\n",
    "    except:\n",
    "        return 0 "
   ]
  },
  {
   "cell_type": "code",
   "execution_count": 49,
   "metadata": {},
   "outputs": [
    {
     "data": {
      "text/plain": [
       "0.034482758620689655"
      ]
     },
     "execution_count": 49,
     "metadata": {},
     "output_type": "execute_result"
    }
   ],
   "source": [
    "jaccard_for_followees(2,470294)"
   ]
  },
  {
   "cell_type": "code",
   "execution_count": 50,
   "metadata": {},
   "outputs": [
    {
     "data": {
      "text/plain": [
       "0.0"
      ]
     },
     "execution_count": 50,
     "metadata": {},
     "output_type": "execute_result"
    }
   ],
   "source": [
    "jaccard_for_followees(2,3)"
   ]
  },
  {
   "cell_type": "markdown",
   "metadata": {},
   "source": [
    "## Cosine Distance"
   ]
  },
  {
   "cell_type": "markdown",
   "metadata": {},
   "source": [
    "\\begin{equation}\n",
    "CosineDistance = \\frac{|X\\cap Y|}{|X|\\cdot|Y|} \n",
    "\\end{equation}"
   ]
  },
  {
   "cell_type": "code",
   "execution_count": 51,
   "metadata": {},
   "outputs": [],
   "source": [
    "def cosine_distance_followers(a,b):\n",
    "    try:\n",
    "        if len(set(train_graph.predecessors(a))) ==0 | len(set(train_graph.predecessors(b))) ==0:\n",
    "            return 0\n",
    "        else:\n",
    "            sim = (len(set(train_graph.predecessors(a)).intersection(set(train_graph.predecessors(b)))))/\\\n",
    "                                     (math.sqrt(len(set(train_graph.predecessors(a))))*(len(set(train_graph.predecessors(b)))))\n",
    "            return sim\n",
    "    except:\n",
    "        return 0"
   ]
  },
  {
   "cell_type": "code",
   "execution_count": 52,
   "metadata": {},
   "outputs": [
    {
     "name": "stdout",
     "output_type": "stream",
     "text": [
      "0.02886751345948129\n"
     ]
    }
   ],
   "source": [
    "print(cosine_distance_followers(2,470294))"
   ]
  },
  {
   "cell_type": "code",
   "execution_count": 53,
   "metadata": {},
   "outputs": [],
   "source": [
    "def cosine_distance_followees(a,b):\n",
    "    try:\n",
    "        if len(set(train_graph.successors(a))) ==0 | len(set(train_graph.successors(b))) ==0:\n",
    "            return 0\n",
    "        else:\n",
    "            sim = (len(set(train_graph.successors(a)).intersection(set(train_graph.successors(b)))))/\\\n",
    "                                     (math.sqrt(len(set(train_graph.successors(a))))*(len(set(train_graph.successors(b)))))\n",
    "            return sim\n",
    "    except:\n",
    "        return 0"
   ]
  },
  {
   "cell_type": "code",
   "execution_count": 54,
   "metadata": {},
   "outputs": [
    {
     "name": "stdout",
     "output_type": "stream",
     "text": [
      "0.01788854381999832\n"
     ]
    }
   ],
   "source": [
    "print(cosine_distance_followees(2,470294))"
   ]
  },
  {
   "cell_type": "markdown",
   "metadata": {},
   "source": [
    "## Page Rank\n",
    "\n",
    "PageRank works by counting the number and quality of links to a page to determine a rough estimate of how important the website is. The underlying assumption is that more important websites are likely to receive more links from other websites.\n",
    "\n",
    "<img src='PageRanks-Example.svg.png'/>\n",
    "\n",
    "Source: Wikipedia"
   ]
  },
  {
   "cell_type": "code",
   "execution_count": 55,
   "metadata": {},
   "outputs": [],
   "source": [
    "pr = pickle.load(open('page_rank.p','rb'))"
   ]
  },
  {
   "cell_type": "code",
   "execution_count": 56,
   "metadata": {},
   "outputs": [
    {
     "name": "stdout",
     "output_type": "stream",
     "text": [
      "1.6556497245737814e-07\n"
     ]
    }
   ],
   "source": [
    "min_pr = min( pr.values())\n",
    "print(min_pr)"
   ]
  },
  {
   "cell_type": "code",
   "execution_count": 57,
   "metadata": {},
   "outputs": [
    {
     "name": "stdout",
     "output_type": "stream",
     "text": [
      "5.615699699389075e-07\n"
     ]
    }
   ],
   "source": [
    "mean_pr = sum(pr.values())/len(pr)\n",
    "print(mean_pr)"
   ]
  },
  {
   "cell_type": "code",
   "execution_count": 58,
   "metadata": {},
   "outputs": [
    {
     "name": "stdout",
     "output_type": "stream",
     "text": [
      "2.7098251341935827e-05\n"
     ]
    }
   ],
   "source": [
    "max_pr = max(pr.values())\n",
    "print(max_pr)"
   ]
  },
  {
   "cell_type": "markdown",
   "metadata": {},
   "source": [
    "## Shortest path"
   ]
  },
  {
   "cell_type": "code",
   "execution_count": 59,
   "metadata": {},
   "outputs": [],
   "source": [
    "def compute_shortest_path(a,b):\n",
    "    p=-1\n",
    "    try:\n",
    "        if train_graph.has_edge(a,b):\n",
    "            train_graph.remove_edge(a,b)\n",
    "            p = nx.shortest_path_length(train_graph,source=a,target=b)\n",
    "            train_graph.add_edge(a,b)\n",
    "            return p \n",
    "        else:\n",
    "            p = nx.shortest_path_length(train_graph,source=a,target=b)\n",
    "            return p\n",
    "    except:\n",
    "        return -1"
   ]
  },
  {
   "cell_type": "code",
   "execution_count": 60,
   "metadata": {},
   "outputs": [
    {
     "data": {
      "text/plain": [
       "10"
      ]
     },
     "execution_count": 60,
     "metadata": {},
     "output_type": "execute_result"
    }
   ],
   "source": [
    "compute_shortest_path(77697, 826021)"
   ]
  },
  {
   "cell_type": "code",
   "execution_count": 61,
   "metadata": {},
   "outputs": [
    {
     "data": {
      "text/plain": [
       "-1"
      ]
     },
     "execution_count": 61,
     "metadata": {},
     "output_type": "execute_result"
    }
   ],
   "source": [
    "compute_shortest_path(669354,1635354)"
   ]
  },
  {
   "cell_type": "markdown",
   "metadata": {},
   "source": [
    "## Checking for same community"
   ]
  },
  {
   "cell_type": "code",
   "execution_count": 62,
   "metadata": {},
   "outputs": [],
   "source": [
    "wcc = list(nx.weakly_connected_components(train_graph))"
   ]
  },
  {
   "cell_type": "code",
   "execution_count": 63,
   "metadata": {},
   "outputs": [],
   "source": [
    "\n",
    "def belongs_to_same_wcc(a,b):\n",
    "    index = []\n",
    "    if train_graph.has_edge(b,a):\n",
    "        return 1\n",
    "    if train_graph.has_edge(a,b):\n",
    "            for i in wcc:\n",
    "                if a in i:\n",
    "                    index= i\n",
    "                    break\n",
    "            if (b in index):\n",
    "                train_graph.remove_edge(a,b)\n",
    "                if compute_shortest_path(a,b)==-1:\n",
    "                    train_graph.add_edge(a,b)\n",
    "                    return 0\n",
    "                else:\n",
    "                    train_graph.add_edge(a,b)\n",
    "                    return 1\n",
    "            else:\n",
    "                return 0\n",
    "    else:\n",
    "            for i in wcc:\n",
    "                if a in i:\n",
    "                    index= i\n",
    "                    break\n",
    "            if(b in index):\n",
    "                return 1\n",
    "            else:\n",
    "                return 0"
   ]
  },
  {
   "cell_type": "code",
   "execution_count": 64,
   "metadata": {},
   "outputs": [
    {
     "data": {
      "text/plain": [
       "0"
      ]
     },
     "execution_count": 64,
     "metadata": {},
     "output_type": "execute_result"
    }
   ],
   "source": [
    "belongs_to_same_wcc(861, 1659750)"
   ]
  },
  {
   "cell_type": "markdown",
   "metadata": {},
   "source": [
    "## Adam-Adar index\n",
    "Adamic/Adar measures is defined as inverted sum of degrees of common neighbours for given two vertices.\n",
    "$$A(x,y)=\\sum_{u \\in N(x) \\cap N(y)}\\frac{1}{log(|N(u)|)}$$\n",
    "\n",
    "The definition is based on the concept that common elements with very large neighbourhoods are less significant when predicting a connection between two nodes compared with elements shared between a small number of nodes.\n",
    "\n",
    "Source: Wikipedia"
   ]
  },
  {
   "cell_type": "code",
   "execution_count": 65,
   "metadata": {},
   "outputs": [],
   "source": [
    "def adam_adar(a,b):\n",
    "    \n",
    "    try:\n",
    "        n = list(set(train_graph.successors(a)).intersection(set(train_graph.successors(b))))\n",
    "        if n!=0:\n",
    "            sum =0\n",
    "            for i in n:\n",
    "                sum+= 1/np.log10(len(train_graph.predecessors(i)))\n",
    "            return sum\n",
    "        \n",
    "        else:\n",
    "            return 0\n",
    "    except:\n",
    "        return 0"
   ]
  },
  {
   "cell_type": "code",
   "execution_count": 66,
   "metadata": {},
   "outputs": [
    {
     "data": {
      "text/plain": [
       "0"
      ]
     },
     "execution_count": 66,
     "metadata": {},
     "output_type": "execute_result"
    }
   ],
   "source": [
    "adam_adar(1,189226)"
   ]
  },
  {
   "cell_type": "code",
   "execution_count": 67,
   "metadata": {},
   "outputs": [
    {
     "data": {
      "text/plain": [
       "0"
      ]
     },
     "execution_count": 67,
     "metadata": {},
     "output_type": "execute_result"
    }
   ],
   "source": [
    "adam_adar(669354,5636582)"
   ]
  },
  {
   "cell_type": "markdown",
   "metadata": {},
   "source": [
    "## Users following each other back"
   ]
  },
  {
   "cell_type": "code",
   "execution_count": 68,
   "metadata": {},
   "outputs": [],
   "source": [
    "def follow_back(a,b):\n",
    "    try:\n",
    "        if train_graph.has_edge(a,b):\n",
    "            if train_graph.has_edge(b,a):\n",
    "                return 1\n",
    "            else:\n",
    "                return 0\n",
    "        else:\n",
    "            return 0\n",
    "    except:\n",
    "        return 0 "
   ]
  },
  {
   "cell_type": "code",
   "execution_count": 69,
   "metadata": {},
   "outputs": [
    {
     "data": {
      "text/plain": [
       "0"
      ]
     },
     "execution_count": 69,
     "metadata": {},
     "output_type": "execute_result"
    }
   ],
   "source": [
    "follow_back(1847924,928426)"
   ]
  },
  {
   "cell_type": "code",
   "execution_count": 70,
   "metadata": {},
   "outputs": [
    {
     "data": {
      "text/plain": [
       "0"
      ]
     },
     "execution_count": 70,
     "metadata": {},
     "output_type": "execute_result"
    }
   ],
   "source": [
    "follow_back(669354,1635354)"
   ]
  },
  {
   "cell_type": "markdown",
   "metadata": {},
   "source": [
    "## Katz Centrality"
   ]
  },
  {
   "cell_type": "code",
   "execution_count": 71,
   "metadata": {},
   "outputs": [],
   "source": [
    "if not os.path.isfile('katz.p'):\n",
    "    katz = nx.katz.katz_centrality(train_graph,alpha=0.005,beta=1)\n",
    "    pickle.dump(katz,open('katz.p','wb'))\n",
    "else:\n",
    "    katz = pickle.load(open('katz.p','rb'))"
   ]
  },
  {
   "cell_type": "code",
   "execution_count": 72,
   "metadata": {},
   "outputs": [
    {
     "name": "stdout",
     "output_type": "stream",
     "text": [
      "min 0.0007313532484065916\n",
      "max 0.003394554981699122\n",
      "mean 0.0007483800935562018\n"
     ]
    }
   ],
   "source": [
    "print('min',katz[min(katz, key=katz.get)])\n",
    "print('max',katz[max(katz, key=katz.get)])\n",
    "print('mean',float(sum(katz.values())) / len(katz))"
   ]
  },
  {
   "cell_type": "code",
   "execution_count": 73,
   "metadata": {},
   "outputs": [
    {
     "name": "stdout",
     "output_type": "stream",
     "text": [
      "0.0007483800935562018\n"
     ]
    }
   ],
   "source": [
    "mean_katz = float(sum(katz.values())) / len(katz)\n",
    "print(mean_katz)"
   ]
  },
  {
   "cell_type": "markdown",
   "metadata": {},
   "source": [
    "## Hits Score"
   ]
  },
  {
   "cell_type": "code",
   "execution_count": 74,
   "metadata": {},
   "outputs": [],
   "source": [
    "if not os.path.isfile('hits.p'):\n",
    "    hits = nx.hits(train_graph, max_iter=100, tol=1e-08, nstart=None, normalized=True)\n",
    "    pickle.dump(hits,open('hits.p','wb'))\n",
    "else:\n",
    "    hits = pickle.load(open('hits.p','rb'))"
   ]
  },
  {
   "cell_type": "code",
   "execution_count": 75,
   "metadata": {},
   "outputs": [
    {
     "name": "stdout",
     "output_type": "stream",
     "text": [
      "min 0.0\n",
      "max 0.0054775458498681736\n",
      "mean 5.615699699335403e-07\n"
     ]
    }
   ],
   "source": [
    "print('min',hits[1][min(hits[1], key=hits[1].get)])\n",
    "print('max',hits[1][max(hits[1], key=hits[1].get)])\n",
    "print('mean',float(sum(hits[1].values())) / len(hits[1]))"
   ]
  },
  {
   "cell_type": "markdown",
   "metadata": {},
   "source": [
    "# Preferential Attachment\n",
    "One well-known concept in social networks is that users with many friends tend to create more connections in the future. This is due to the fact that in some social networks, like in finance, the rich get richer. We estimate how ”rich” our two vertices are by calculating the multiplication between the number of friends (|Γ(x)|) or followers each vertex has. It may be noted that the similarity index does not require any node neighbor information; therefore, this similarity index has the lowest computational complexity.\n",
    "\n",
    "Source: http://be.amazd.com/link-prediction/"
   ]
  },
  {
   "cell_type": "code",
   "execution_count": 76,
   "metadata": {},
   "outputs": [],
   "source": [
    "def preferential_attachment_followers(a,b):\n",
    "    try:\n",
    "        a_followers = len(set(train_graph.predecessors(a)))\n",
    "        b_followers = len(set(train_graph.predecessors(b)))\n",
    "        return a_followers*b_followers\n",
    "    \n",
    "    except:\n",
    "        return 0"
   ]
  },
  {
   "cell_type": "code",
   "execution_count": 77,
   "metadata": {},
   "outputs": [
    {
     "data": {
      "text/plain": [
       "220"
      ]
     },
     "execution_count": 77,
     "metadata": {},
     "output_type": "execute_result"
    }
   ],
   "source": [
    "preferential_attachment_followers(273084,470294)"
   ]
  },
  {
   "cell_type": "code",
   "execution_count": 78,
   "metadata": {},
   "outputs": [],
   "source": [
    "def preferential_attachment_followees(a,b):\n",
    "    try:\n",
    "        a_followees = len(set(train_graph.successors(a)))\n",
    "        b_followees = len(set(train_graph.successors(b)))\n",
    "        return a_followees*b_followees\n",
    "    except:\n",
    "        return 0 "
   ]
  },
  {
   "cell_type": "code",
   "execution_count": 79,
   "metadata": {},
   "outputs": [
    {
     "data": {
      "text/plain": [
       "375"
      ]
     },
     "execution_count": 79,
     "metadata": {},
     "output_type": "execute_result"
    }
   ],
   "source": [
    "preferential_attachment_followees(273084, 470294)"
   ]
  },
  {
   "cell_type": "markdown",
   "metadata": {},
   "source": [
    "## Total_Followers,Total_followees,Common_Followers, Common Followees,"
   ]
  },
  {
   "cell_type": "code",
   "execution_count": 80,
   "metadata": {},
   "outputs": [],
   "source": [
    "def compute_features_stage1(df_final):\n",
    "    #calculating no of followers followees for source and destination\n",
    "    #calculating intersection of followers and followees for source and destination\n",
    "    num_followers_s=[]\n",
    "    num_followees_s=[]\n",
    "    num_followers_d=[]\n",
    "    num_followees_d=[]\n",
    "    inter_followers=[]\n",
    "    inter_followees=[]\n",
    "    for i,row in df_final.iterrows():\n",
    "        try:\n",
    "            s1=set(train_graph.predecessors(row['source_node']))\n",
    "            s2=set(train_graph.successors(row['source_node']))\n",
    "        except:\n",
    "            s1 = set()\n",
    "            s2 = set()\n",
    "        try:\n",
    "            d1=set(train_graph.predecessors(row['destination_node']))\n",
    "            d2=set(train_graph.successors(row['destination_node']))\n",
    "        except:\n",
    "            d1 = set()\n",
    "            d2 = set()\n",
    "        num_followers_s.append(len(s1))\n",
    "        num_followees_s.append(len(s2))\n",
    "\n",
    "        num_followers_d.append(len(d1))\n",
    "        num_followees_d.append(len(d2))\n",
    "\n",
    "        inter_followers.append(len(s1.intersection(d1)))\n",
    "        inter_followees.append(len(s2.intersection(d2)))\n",
    "    \n",
    "    return num_followers_s, num_followers_d, num_followees_s, num_followees_d, inter_followers, inter_followees"
   ]
  },
  {
   "cell_type": "markdown",
   "metadata": {},
   "source": [
    "## Weight features\n",
    "\n",
    "In order to determine the similarity of nodes, an edge weight value was calculated between nodes. Edge weight decreases as the neighbor count goes up. Intuitively, consider one million people following a celebrity on a social network then chances are most of them never met each other or the celebrity. On the other hand, if a user has 30 contacts in his/her social network, the chances are higher that many of them know each other. credit - Graph-based Features for Supervised Link Prediction William Cukierski, Benjamin Hamner, Bo Yang\n",
    "\\begin{equation}\n",
    "W = \\frac{1}{\\sqrt{1+|X|}}\n",
    "\\end{equation}\n",
    "it is directed graph so calculated Weighted in and Weighted out differently"
   ]
  },
  {
   "cell_type": "code",
   "execution_count": 81,
   "metadata": {},
   "outputs": [
    {
     "name": "stderr",
     "output_type": "stream",
     "text": [
      "100%|█████████████████████████████████████████████████████████████████████| 1780722/1780722 [00:19<00:00, 92341.26it/s]\n"
     ]
    }
   ],
   "source": [
    "Weight_in = {}\n",
    "Weight_out = {}\n",
    "for i in  tqdm(train_graph.nodes()):\n",
    "    s1=set(train_graph.predecessors(i))\n",
    "    w_in = 1.0/(np.sqrt(1+len(s1)))\n",
    "    Weight_in[i]=w_in\n",
    "    \n",
    "    s2=set(train_graph.successors(i))\n",
    "    w_out = 1.0/(np.sqrt(1+len(s2)))\n",
    "    Weight_out[i]=w_out\n",
    "    \n",
    "#for imputing with mean\n",
    "mean_weight_in = np.mean(list(Weight_in.values()))\n",
    "mean_weight_out = np.mean(list(Weight_out.values()))"
   ]
  },
  {
   "cell_type": "markdown",
   "metadata": {},
   "source": [
    "## SVD dot feature"
   ]
  },
  {
   "cell_type": "code",
   "execution_count": 82,
   "metadata": {},
   "outputs": [],
   "source": [
    "sadj_col = sorted(train_graph.nodes())\n",
    "sadj_dict = { val:idx for idx,val in enumerate(sadj_col)}"
   ]
  },
  {
   "cell_type": "code",
   "execution_count": 83,
   "metadata": {},
   "outputs": [],
   "source": [
    "Adj = nx.adjacency_matrix(train_graph,nodelist=sorted(train_graph.nodes())).asfptype()"
   ]
  },
  {
   "cell_type": "code",
   "execution_count": 84,
   "metadata": {},
   "outputs": [
    {
     "name": "stdout",
     "output_type": "stream",
     "text": [
      "Adjacency matrix Shape (1780722, 1780722)\n",
      "U Shape (1780722, 6)\n",
      "V Shape (6, 1780722)\n",
      "s Shape (6,)\n"
     ]
    }
   ],
   "source": [
    "U, s, V = svds(Adj, k = 6)\n",
    "print('Adjacency matrix Shape',Adj.shape)\n",
    "print('U Shape',U.shape)\n",
    "print('V Shape',V.shape)\n",
    "print('s Shape',s.shape)"
   ]
  },
  {
   "cell_type": "code",
   "execution_count": 85,
   "metadata": {},
   "outputs": [],
   "source": [
    "def svd_u(a,b):\n",
    "    try:\n",
    "        \n",
    "        s_id = sadj_dict[a]\n",
    "        d_id = sadj_dict[b]\n",
    "        s_u = U[s_id]\n",
    "        d_u = U[d_id]\n",
    "        return math.log(np.dot(s_u,d_u))\n",
    "        \n",
    "    except:\n",
    "        return 0 "
   ]
  },
  {
   "cell_type": "code",
   "execution_count": 86,
   "metadata": {},
   "outputs": [
    {
     "data": {
      "text/plain": [
       "-25.219625777963095"
      ]
     },
     "execution_count": 86,
     "metadata": {},
     "output_type": "execute_result"
    }
   ],
   "source": [
    "svd_u(273084, 1505602)"
   ]
  },
  {
   "cell_type": "code",
   "execution_count": 87,
   "metadata": {},
   "outputs": [],
   "source": [
    "def svd_v(a,b):\n",
    "    try:\n",
    "        s_id = sadj_dict[a]\n",
    "        d_id = sadj_dict[b]\n",
    "        s_v = V.T[s_id]\n",
    "        d_v = V.T[d_id]\n",
    "        return math.log(np.dot(s_v,d_v))\n",
    "        \n",
    "    except:\n",
    "        return 0"
   ]
  },
  {
   "cell_type": "code",
   "execution_count": 88,
   "metadata": {},
   "outputs": [
    {
     "data": {
      "text/plain": [
       "-26.825091396784412"
      ]
     },
     "execution_count": 88,
     "metadata": {},
     "output_type": "execute_result"
    }
   ],
   "source": [
    "svd_v(273084, 1505602)"
   ]
  },
  {
   "cell_type": "code",
   "execution_count": 89,
   "metadata": {},
   "outputs": [],
   "source": [
    "def svd(x, S):\n",
    "    try:\n",
    "        z = sadj_dict[x]\n",
    "        return S[z]\n",
    "    except:\n",
    "        return [0,0,0,0,0,0]"
   ]
  },
  {
   "cell_type": "markdown",
   "metadata": {},
   "source": [
    "## Beacuse of deficiency in computational power I will reduce training data to 100,000 samples and test data to 20,000 samples"
   ]
  },
  {
   "cell_type": "code",
   "execution_count": 90,
   "metadata": {},
   "outputs": [],
   "source": [
    "colnames = ['source_node','destination_node']\n",
    "X_train = pd.read_csv('train_after_eda.csv',header=None,names=colnames)"
   ]
  },
  {
   "cell_type": "code",
   "execution_count": 91,
   "metadata": {},
   "outputs": [
    {
     "data": {
      "text/html": [
       "<div>\n",
       "<style scoped>\n",
       "    .dataframe tbody tr th:only-of-type {\n",
       "        vertical-align: middle;\n",
       "    }\n",
       "\n",
       "    .dataframe tbody tr th {\n",
       "        vertical-align: top;\n",
       "    }\n",
       "\n",
       "    .dataframe thead th {\n",
       "        text-align: right;\n",
       "    }\n",
       "</style>\n",
       "<table border=\"1\" class=\"dataframe\">\n",
       "  <thead>\n",
       "    <tr style=\"text-align: right;\">\n",
       "      <th></th>\n",
       "      <th>source_node</th>\n",
       "      <th>destination_node</th>\n",
       "    </tr>\n",
       "  </thead>\n",
       "  <tbody>\n",
       "    <tr>\n",
       "      <th>0</th>\n",
       "      <td>273084</td>\n",
       "      <td>1505602</td>\n",
       "    </tr>\n",
       "    <tr>\n",
       "      <th>1</th>\n",
       "      <td>912810</td>\n",
       "      <td>1678443</td>\n",
       "    </tr>\n",
       "    <tr>\n",
       "      <th>2</th>\n",
       "      <td>365429</td>\n",
       "      <td>1523458</td>\n",
       "    </tr>\n",
       "    <tr>\n",
       "      <th>3</th>\n",
       "      <td>527014</td>\n",
       "      <td>1605979</td>\n",
       "    </tr>\n",
       "    <tr>\n",
       "      <th>4</th>\n",
       "      <td>1228116</td>\n",
       "      <td>471233</td>\n",
       "    </tr>\n",
       "  </tbody>\n",
       "</table>\n",
       "</div>"
      ],
      "text/plain": [
       "   source_node  destination_node\n",
       "0       273084           1505602\n",
       "1       912810           1678443\n",
       "2       365429           1523458\n",
       "3       527014           1605979\n",
       "4      1228116            471233"
      ]
     },
     "execution_count": 91,
     "metadata": {},
     "output_type": "execute_result"
    }
   ],
   "source": [
    "X_train.head(5)"
   ]
  },
  {
   "cell_type": "code",
   "execution_count": 92,
   "metadata": {},
   "outputs": [
    {
     "data": {
      "text/plain": [
       "(15100030, 2)"
      ]
     },
     "execution_count": 92,
     "metadata": {},
     "output_type": "execute_result"
    }
   ],
   "source": [
    "X_train.shape"
   ]
  },
  {
   "cell_type": "code",
   "execution_count": 93,
   "metadata": {},
   "outputs": [],
   "source": [
    "y_train = pd.read_csv('train_y.csv',header=None)"
   ]
  },
  {
   "cell_type": "code",
   "execution_count": 94,
   "metadata": {},
   "outputs": [
    {
     "data": {
      "text/html": [
       "<div>\n",
       "<style scoped>\n",
       "    .dataframe tbody tr th:only-of-type {\n",
       "        vertical-align: middle;\n",
       "    }\n",
       "\n",
       "    .dataframe tbody tr th {\n",
       "        vertical-align: top;\n",
       "    }\n",
       "\n",
       "    .dataframe thead th {\n",
       "        text-align: right;\n",
       "    }\n",
       "</style>\n",
       "<table border=\"1\" class=\"dataframe\">\n",
       "  <thead>\n",
       "    <tr style=\"text-align: right;\">\n",
       "      <th></th>\n",
       "      <th>0</th>\n",
       "    </tr>\n",
       "  </thead>\n",
       "  <tbody>\n",
       "    <tr>\n",
       "      <th>0</th>\n",
       "      <td>1</td>\n",
       "    </tr>\n",
       "    <tr>\n",
       "      <th>1</th>\n",
       "      <td>1</td>\n",
       "    </tr>\n",
       "    <tr>\n",
       "      <th>2</th>\n",
       "      <td>1</td>\n",
       "    </tr>\n",
       "    <tr>\n",
       "      <th>3</th>\n",
       "      <td>1</td>\n",
       "    </tr>\n",
       "    <tr>\n",
       "      <th>4</th>\n",
       "      <td>1</td>\n",
       "    </tr>\n",
       "    <tr>\n",
       "      <th>...</th>\n",
       "      <td>...</td>\n",
       "    </tr>\n",
       "    <tr>\n",
       "      <th>15100025</th>\n",
       "      <td>0</td>\n",
       "    </tr>\n",
       "    <tr>\n",
       "      <th>15100026</th>\n",
       "      <td>0</td>\n",
       "    </tr>\n",
       "    <tr>\n",
       "      <th>15100027</th>\n",
       "      <td>0</td>\n",
       "    </tr>\n",
       "    <tr>\n",
       "      <th>15100028</th>\n",
       "      <td>0</td>\n",
       "    </tr>\n",
       "    <tr>\n",
       "      <th>15100029</th>\n",
       "      <td>0</td>\n",
       "    </tr>\n",
       "  </tbody>\n",
       "</table>\n",
       "<p>15100030 rows × 1 columns</p>\n",
       "</div>"
      ],
      "text/plain": [
       "          0\n",
       "0         1\n",
       "1         1\n",
       "2         1\n",
       "3         1\n",
       "4         1\n",
       "...      ..\n",
       "15100025  0\n",
       "15100026  0\n",
       "15100027  0\n",
       "15100028  0\n",
       "15100029  0\n",
       "\n",
       "[15100030 rows x 1 columns]"
      ]
     },
     "execution_count": 94,
     "metadata": {},
     "output_type": "execute_result"
    }
   ],
   "source": [
    "y_train"
   ]
  },
  {
   "cell_type": "code",
   "execution_count": 95,
   "metadata": {},
   "outputs": [],
   "source": [
    "X_test = pd.read_csv('test_after_eda.csv',header=None,names=colnames)"
   ]
  },
  {
   "cell_type": "code",
   "execution_count": 96,
   "metadata": {},
   "outputs": [
    {
     "data": {
      "text/html": [
       "<div>\n",
       "<style scoped>\n",
       "    .dataframe tbody tr th:only-of-type {\n",
       "        vertical-align: middle;\n",
       "    }\n",
       "\n",
       "    .dataframe tbody tr th {\n",
       "        vertical-align: top;\n",
       "    }\n",
       "\n",
       "    .dataframe thead th {\n",
       "        text-align: right;\n",
       "    }\n",
       "</style>\n",
       "<table border=\"1\" class=\"dataframe\">\n",
       "  <thead>\n",
       "    <tr style=\"text-align: right;\">\n",
       "      <th></th>\n",
       "      <th>source_node</th>\n",
       "      <th>destination_node</th>\n",
       "    </tr>\n",
       "  </thead>\n",
       "  <tbody>\n",
       "    <tr>\n",
       "      <th>0</th>\n",
       "      <td>848424</td>\n",
       "      <td>784690</td>\n",
       "    </tr>\n",
       "    <tr>\n",
       "      <th>1</th>\n",
       "      <td>1248963</td>\n",
       "      <td>444518</td>\n",
       "    </tr>\n",
       "    <tr>\n",
       "      <th>2</th>\n",
       "      <td>264224</td>\n",
       "      <td>132395</td>\n",
       "    </tr>\n",
       "    <tr>\n",
       "      <th>3</th>\n",
       "      <td>549680</td>\n",
       "      <td>326829</td>\n",
       "    </tr>\n",
       "    <tr>\n",
       "      <th>4</th>\n",
       "      <td>875380</td>\n",
       "      <td>1394902</td>\n",
       "    </tr>\n",
       "  </tbody>\n",
       "</table>\n",
       "</div>"
      ],
      "text/plain": [
       "   source_node  destination_node\n",
       "0       848424            784690\n",
       "1      1248963            444518\n",
       "2       264224            132395\n",
       "3       549680            326829\n",
       "4       875380           1394902"
      ]
     },
     "execution_count": 96,
     "metadata": {},
     "output_type": "execute_result"
    }
   ],
   "source": [
    "X_test.head(5)"
   ]
  },
  {
   "cell_type": "code",
   "execution_count": 97,
   "metadata": {},
   "outputs": [
    {
     "data": {
      "text/plain": [
       "(3775008, 2)"
      ]
     },
     "execution_count": 97,
     "metadata": {},
     "output_type": "execute_result"
    }
   ],
   "source": [
    "X_test.shape"
   ]
  },
  {
   "cell_type": "code",
   "execution_count": 98,
   "metadata": {},
   "outputs": [],
   "source": [
    "y_test = pd.read_csv('test_y.csv',header=None)"
   ]
  },
  {
   "cell_type": "code",
   "execution_count": 99,
   "metadata": {},
   "outputs": [
    {
     "data": {
      "text/plain": [
       "(3775008, 1)"
      ]
     },
     "execution_count": 99,
     "metadata": {},
     "output_type": "execute_result"
    }
   ],
   "source": [
    "y_test.shape"
   ]
  },
  {
   "cell_type": "markdown",
   "metadata": {},
   "source": [
    "#### Adding the y_data to train and test samples"
   ]
  },
  {
   "cell_type": "code",
   "execution_count": 100,
   "metadata": {},
   "outputs": [],
   "source": [
    "X_train['link_present'] = y_train\n",
    "X_test['link_present']=y_test"
   ]
  },
  {
   "cell_type": "code",
   "execution_count": 101,
   "metadata": {},
   "outputs": [
    {
     "data": {
      "text/html": [
       "<div>\n",
       "<style scoped>\n",
       "    .dataframe tbody tr th:only-of-type {\n",
       "        vertical-align: middle;\n",
       "    }\n",
       "\n",
       "    .dataframe tbody tr th {\n",
       "        vertical-align: top;\n",
       "    }\n",
       "\n",
       "    .dataframe thead th {\n",
       "        text-align: right;\n",
       "    }\n",
       "</style>\n",
       "<table border=\"1\" class=\"dataframe\">\n",
       "  <thead>\n",
       "    <tr style=\"text-align: right;\">\n",
       "      <th></th>\n",
       "      <th>source_node</th>\n",
       "      <th>destination_node</th>\n",
       "      <th>link_present</th>\n",
       "    </tr>\n",
       "  </thead>\n",
       "  <tbody>\n",
       "    <tr>\n",
       "      <th>0</th>\n",
       "      <td>273084</td>\n",
       "      <td>1505602</td>\n",
       "      <td>1</td>\n",
       "    </tr>\n",
       "  </tbody>\n",
       "</table>\n",
       "</div>"
      ],
      "text/plain": [
       "   source_node  destination_node  link_present\n",
       "0       273084           1505602             1"
      ]
     },
     "execution_count": 101,
     "metadata": {},
     "output_type": "execute_result"
    }
   ],
   "source": [
    "X_train.head(1)"
   ]
  },
  {
   "cell_type": "code",
   "execution_count": 102,
   "metadata": {},
   "outputs": [
    {
     "data": {
      "text/html": [
       "<div>\n",
       "<style scoped>\n",
       "    .dataframe tbody tr th:only-of-type {\n",
       "        vertical-align: middle;\n",
       "    }\n",
       "\n",
       "    .dataframe tbody tr th {\n",
       "        vertical-align: top;\n",
       "    }\n",
       "\n",
       "    .dataframe thead th {\n",
       "        text-align: right;\n",
       "    }\n",
       "</style>\n",
       "<table border=\"1\" class=\"dataframe\">\n",
       "  <thead>\n",
       "    <tr style=\"text-align: right;\">\n",
       "      <th></th>\n",
       "      <th>source_node</th>\n",
       "      <th>destination_node</th>\n",
       "      <th>link_present</th>\n",
       "    </tr>\n",
       "  </thead>\n",
       "  <tbody>\n",
       "    <tr>\n",
       "      <th>0</th>\n",
       "      <td>848424</td>\n",
       "      <td>784690</td>\n",
       "      <td>1</td>\n",
       "    </tr>\n",
       "  </tbody>\n",
       "</table>\n",
       "</div>"
      ],
      "text/plain": [
       "   source_node  destination_node  link_present\n",
       "0       848424            784690             1"
      ]
     },
     "execution_count": 102,
     "metadata": {},
     "output_type": "execute_result"
    }
   ],
   "source": [
    "X_test.head(1)"
   ]
  },
  {
   "cell_type": "markdown",
   "metadata": {},
   "source": [
    "### Sampling train and test data"
   ]
  },
  {
   "cell_type": "markdown",
   "metadata": {},
   "source": [
    "#### Sampling train data"
   ]
  },
  {
   "cell_type": "code",
   "execution_count": 103,
   "metadata": {},
   "outputs": [],
   "source": [
    "import random\n",
    "random_train_sample_row = set()\n",
    "while len(random_train_sample_row)<100000:\n",
    "    random_row = np.random.randint(0,X_train.shape[0])\n",
    "    random_train_sample_row.add(random_row)"
   ]
  },
  {
   "cell_type": "code",
   "execution_count": 104,
   "metadata": {},
   "outputs": [],
   "source": [
    "X_train_sample = X_train.iloc[list(random_train_sample_row)]"
   ]
  },
  {
   "cell_type": "code",
   "execution_count": 105,
   "metadata": {},
   "outputs": [
    {
     "data": {
      "text/plain": [
       "(100000, 3)"
      ]
     },
     "execution_count": 105,
     "metadata": {},
     "output_type": "execute_result"
    }
   ],
   "source": [
    "X_train_sample.shape"
   ]
  },
  {
   "cell_type": "code",
   "execution_count": 106,
   "metadata": {},
   "outputs": [
    {
     "data": {
      "text/plain": [
       "0    50177\n",
       "1    49823\n",
       "Name: link_present, dtype: int64"
      ]
     },
     "execution_count": 106,
     "metadata": {},
     "output_type": "execute_result"
    }
   ],
   "source": [
    "X_train_sample.link_present.value_counts()  # Making sure that class is evenly distributed "
   ]
  },
  {
   "cell_type": "code",
   "execution_count": 107,
   "metadata": {},
   "outputs": [
    {
     "data": {
      "text/html": [
       "<div>\n",
       "<style scoped>\n",
       "    .dataframe tbody tr th:only-of-type {\n",
       "        vertical-align: middle;\n",
       "    }\n",
       "\n",
       "    .dataframe tbody tr th {\n",
       "        vertical-align: top;\n",
       "    }\n",
       "\n",
       "    .dataframe thead th {\n",
       "        text-align: right;\n",
       "    }\n",
       "</style>\n",
       "<table border=\"1\" class=\"dataframe\">\n",
       "  <thead>\n",
       "    <tr style=\"text-align: right;\">\n",
       "      <th></th>\n",
       "      <th>source_node</th>\n",
       "      <th>destination_node</th>\n",
       "      <th>link_present</th>\n",
       "    </tr>\n",
       "  </thead>\n",
       "  <tbody>\n",
       "    <tr>\n",
       "      <th>6291458</th>\n",
       "      <td>1010723</td>\n",
       "      <td>1185956</td>\n",
       "      <td>1</td>\n",
       "    </tr>\n",
       "    <tr>\n",
       "      <th>6553612</th>\n",
       "      <td>1051841</td>\n",
       "      <td>1355238</td>\n",
       "      <td>1</td>\n",
       "    </tr>\n",
       "    <tr>\n",
       "      <th>3670031</th>\n",
       "      <td>1271092</td>\n",
       "      <td>1288365</td>\n",
       "      <td>1</td>\n",
       "    </tr>\n",
       "  </tbody>\n",
       "</table>\n",
       "</div>"
      ],
      "text/plain": [
       "         source_node  destination_node  link_present\n",
       "6291458      1010723           1185956             1\n",
       "6553612      1051841           1355238             1\n",
       "3670031      1271092           1288365             1"
      ]
     },
     "execution_count": 107,
     "metadata": {},
     "output_type": "execute_result"
    }
   ],
   "source": [
    "X_train_sample.head(3)"
   ]
  },
  {
   "cell_type": "markdown",
   "metadata": {},
   "source": [
    "#### Sampling test data"
   ]
  },
  {
   "cell_type": "code",
   "execution_count": 108,
   "metadata": {},
   "outputs": [],
   "source": [
    "random_test_sample_row = set()\n",
    "while len(random_test_sample_row)<20000:\n",
    "    random_row = np.random.randint(0,X_test.shape[0])\n",
    "    random_test_sample_row.add(random_row)"
   ]
  },
  {
   "cell_type": "code",
   "execution_count": 109,
   "metadata": {},
   "outputs": [],
   "source": [
    "X_test_sample = X_test.iloc[list(random_test_sample_row)]"
   ]
  },
  {
   "cell_type": "code",
   "execution_count": 110,
   "metadata": {},
   "outputs": [
    {
     "data": {
      "text/plain": [
       "1    10099\n",
       "0     9901\n",
       "Name: link_present, dtype: int64"
      ]
     },
     "execution_count": 110,
     "metadata": {},
     "output_type": "execute_result"
    }
   ],
   "source": [
    "X_test_sample.link_present.value_counts() # Making sure that class is evenly distributed "
   ]
  },
  {
   "cell_type": "code",
   "execution_count": 111,
   "metadata": {},
   "outputs": [
    {
     "data": {
      "text/plain": [
       "(20000, 3)"
      ]
     },
     "execution_count": 111,
     "metadata": {},
     "output_type": "execute_result"
    }
   ],
   "source": [
    "X_test_sample.shape"
   ]
  },
  {
   "cell_type": "code",
   "execution_count": 112,
   "metadata": {},
   "outputs": [
    {
     "data": {
      "text/html": [
       "<div>\n",
       "<style scoped>\n",
       "    .dataframe tbody tr th:only-of-type {\n",
       "        vertical-align: middle;\n",
       "    }\n",
       "\n",
       "    .dataframe tbody tr th {\n",
       "        vertical-align: top;\n",
       "    }\n",
       "\n",
       "    .dataframe thead th {\n",
       "        text-align: right;\n",
       "    }\n",
       "</style>\n",
       "<table border=\"1\" class=\"dataframe\">\n",
       "  <thead>\n",
       "    <tr style=\"text-align: right;\">\n",
       "      <th></th>\n",
       "      <th>source_node</th>\n",
       "      <th>destination_node</th>\n",
       "      <th>link_present</th>\n",
       "    </tr>\n",
       "  </thead>\n",
       "  <tbody>\n",
       "    <tr>\n",
       "      <th>917505</th>\n",
       "      <td>808619</td>\n",
       "      <td>1098894</td>\n",
       "      <td>1</td>\n",
       "    </tr>\n",
       "    <tr>\n",
       "      <th>1179649</th>\n",
       "      <td>601375</td>\n",
       "      <td>1369764</td>\n",
       "      <td>1</td>\n",
       "    </tr>\n",
       "    <tr>\n",
       "      <th>1441796</th>\n",
       "      <td>1226940</td>\n",
       "      <td>1653856</td>\n",
       "      <td>1</td>\n",
       "    </tr>\n",
       "  </tbody>\n",
       "</table>\n",
       "</div>"
      ],
      "text/plain": [
       "         source_node  destination_node  link_present\n",
       "917505        808619           1098894             1\n",
       "1179649       601375           1369764             1\n",
       "1441796      1226940           1653856             1"
      ]
     },
     "execution_count": 112,
     "metadata": {},
     "output_type": "execute_result"
    }
   ],
   "source": [
    "X_test_sample.head(3)"
   ]
  },
  {
   "cell_type": "markdown",
   "metadata": {},
   "source": [
    "# Feature Addition"
   ]
  },
  {
   "cell_type": "code",
   "execution_count": 113,
   "metadata": {},
   "outputs": [],
   "source": [
    "    #mapping jaccard followers\n",
    "\n",
    "X_train_sample['jaccard_followers'] = X_train_sample.apply(lambda row:\n",
    "                                            jaccard_for_followers(row['source_node'],row['destination_node']),axis=1)\n",
    "X_test_sample['jaccard_followers'] = X_test_sample.apply(lambda row:\n",
    "                                            jaccard_for_followers(row['source_node'],row['destination_node']),axis=1)\n",
    "\n",
    "    #mapping jaccard followees\n",
    "X_train_sample['jaccard_followees'] = X_train_sample.apply(lambda row:\n",
    "                                            jaccard_for_followees(row['source_node'],row['destination_node']),axis=1)\n",
    "X_test_sample['jaccard_followees'] = X_test_sample.apply(lambda row:\n",
    "                                            jaccard_for_followees(row['source_node'],row['destination_node']),axis=1)\n",
    "    \n",
    "\n",
    "        #mapping jaccard followers \n",
    "X_train_sample['cosine_followers'] = X_train_sample.apply(lambda row:\n",
    "                                            cosine_distance_followers(row['source_node'],row['destination_node']),axis=1)\n",
    "X_test_sample['cosine_followers'] = X_test_sample.apply(lambda row:\n",
    "                                            cosine_distance_followers(row['source_node'],row['destination_node']),axis=1)\n",
    "\n",
    "    #mapping jaccard followees \n",
    "X_train_sample['cosine_followees'] = X_train_sample.apply(lambda row:\n",
    "                                            cosine_distance_followees(row['source_node'],row['destination_node']),axis=1)\n",
    "X_test_sample['cosine_followees'] = X_test_sample.apply(lambda row:\n",
    "                                            cosine_distance_followees(row['source_node'],row['destination_node']),axis=1)\n",
    "\n",
    "    #mapping adam/adar feature\n",
    "X_train_sample['adam_adar'] = X_train_sample.apply(lambda row: adam_adar(row['source_node'],row['destination_node']),axis =1)  \n",
    "X_test_sample['adam_adar'] = X_test_sample.apply(lambda row: adam_adar(row['source_node'],row['destination_node']),axis =1)\n",
    "\n",
    "    #mapping follow back\n",
    "X_train_sample['follow_back'] = X_train_sample.apply(lambda row: follow_back(row['source_node'],row['destination_node']),axis =1)  \n",
    "X_test_sample['follow_back'] = X_test_sample.apply(lambda row: follow_back(row['source_node'],row['destination_node']),axis =1)\n",
    "\n",
    "   #mapping preferential attachment followees\n",
    "X_train_sample['pref_attach_followees'] = X_train_sample.apply(lambda row: preferential_attachment_followees(row['source_node'],row['destination_node']),axis =1)  \n",
    "X_test_sample['pref_attach_followees'] = X_test_sample.apply(lambda row: preferential_attachment_followees(row['source_node'],row['destination_node']),axis =1)\n",
    "\n",
    "  #mapping preferential attachment followers\n",
    "X_train_sample['pref_attach_followers'] = X_train_sample.apply(lambda row: preferential_attachment_followers(row['source_node'],row['destination_node']),axis =1)  \n",
    "X_test_sample['pref_attach_followers'] = X_test_sample.apply(lambda row: preferential_attachment_followers(row['source_node'],row['destination_node']),axis =1)\n",
    "  \n",
    "  #mapping svd_U feature\n",
    "X_train_sample['svd_dot_U'] = X_train_sample.apply(lambda row: svd_u(row['source_node'],row['destination_node']),axis=1)\n",
    "X_test_sample['svd_dot_U'] = X_test_sample.apply(lambda row: svd_u(row['source_node'],row['destination_node']),axis=1)\n",
    "\n",
    "   #mapping svd_V feature\n",
    "X_train_sample['svd_dot_V'] = X_train_sample.apply(lambda row: svd_v(row['source_node'],row['destination_node']),axis=1)\n",
    "X_test_sample['svd_dot_V'] = X_test_sample.apply(lambda row: svd_v(row['source_node'],row['destination_node']),axis=1)\n",
    "\n",
    "  #mapping shortest path feature\n",
    "X_train_sample['shortest_path'] = X_train_sample.apply(lambda row: compute_shortest_path(row['source_node'],row['destination_node']),axis=1)\n",
    "X_test_sample['shortest_path'] = X_test_sample.apply(lambda row: compute_shortest_path(row['source_node'],row['destination_node']),axis=1)\n",
    "\n",
    "  #mapping same_community feature\n",
    "X_train_sample['same_community'] = X_train_sample.apply(lambda row: belongs_to_same_wcc(row['source_node'],row['destination_node']),axis=1)\n",
    "X_test_sample['same_community'] = X_test_sample.apply(lambda row: belongs_to_same_wcc(row['source_node'],row['destination_node']),axis=1)\n",
    "                                           "
   ]
  },
  {
   "cell_type": "code",
   "execution_count": 114,
   "metadata": {},
   "outputs": [],
   "source": [
    "# Mapping total followers,followees, common followers,followees\n",
    "X_train_sample['num_followers_s'], X_train_sample['num_followers_d'], \\\n",
    "    X_train_sample['num_followees_s'], X_train_sample['num_followees_d'], \\\n",
    "    X_train_sample['inter_followers'], X_train_sample['inter_followees']= compute_features_stage1(X_train_sample)\n",
    "    \n",
    "X_test_sample['num_followers_s'], X_test_sample['num_followers_d'], \\\n",
    "    X_test_sample['num_followees_s'], X_test_sample['num_followees_d'], \\\n",
    "    X_test_sample['inter_followers'], X_test_sample['inter_followees']= compute_features_stage1(X_test_sample)"
   ]
  },
  {
   "cell_type": "code",
   "execution_count": 115,
   "metadata": {},
   "outputs": [],
   "source": [
    "#mapping weight-in feature\n",
    "X_train_sample['weight_in'] = X_train_sample.destination_node.apply(lambda x: Weight_in.get(x,mean_weight_in))\n",
    "X_test_sample['weight_in'] = X_test_sample.destination_node.apply(lambda x: Weight_in.get(x,mean_weight_in))\n",
    "\n",
    "#mapping weight-out feature\n",
    "X_train_sample['weight_out'] = X_train_sample.source_node.apply(lambda x: Weight_out.get(x,mean_weight_out))\n",
    "X_test_sample['weight_out'] = X_test_sample.source_node.apply(lambda x: Weight_out.get(x,mean_weight_out))\n",
    "\n",
    "#some feature engg features done on weight\n",
    "X_train_sample['weight_f1'] = X_train_sample.weight_in + X_train_sample.weight_out\n",
    "X_train_sample['weight_f2'] = X_train_sample.weight_in * X_train_sample.weight_out\n",
    "X_train_sample['weight_f3'] = (2*X_train_sample.weight_in + 1*X_train_sample.weight_out)\n",
    "X_train_sample['weight_f4'] = (1*X_train_sample.weight_in + 2*X_train_sample.weight_out)\n",
    "\n",
    "X_test_sample['weight_f1'] = X_test_sample.weight_in + X_test_sample.weight_out\n",
    "X_test_sample['weight_f2'] = X_test_sample.weight_in * X_test_sample.weight_out\n",
    "X_test_sample['weight_f3'] = (2*X_test_sample.weight_in + 1*X_test_sample.weight_out)\n",
    "X_test_sample['weight_f4'] = (1*X_test_sample.weight_in + 2*X_test_sample.weight_out)\n",
    "\n",
    "#mapping page rank feature\n",
    "X_train_sample['page_rank_s'] = X_train_sample.source_node.apply(lambda x:pr.get(x,mean_pr))\n",
    "X_train_sample['page_rank_d'] = X_train_sample.destination_node.apply(lambda x:pr.get(x,mean_pr))\n",
    "\n",
    "X_test_sample['page_rank_s'] = X_test_sample.source_node.apply(lambda x:pr.get(x,mean_pr))\n",
    "X_test_sample['page_rank_d'] = X_test_sample.destination_node.apply(lambda x:pr.get(x,mean_pr))\n",
    "\n",
    "#mapping katz feature\n",
    "X_train_sample['katz_s'] = X_train_sample.source_node.apply(lambda x: katz.get(x,mean_katz))\n",
    "X_train_sample['katz_d'] = X_train_sample.destination_node.apply(lambda x: katz.get(x,mean_katz))\n",
    "\n",
    "X_test_sample['katz_s'] = X_test_sample.source_node.apply(lambda x: katz.get(x,mean_katz))\n",
    "X_test_sample['katz_d'] = X_test_sample.destination_node.apply(lambda x: katz.get(x,mean_katz))\n",
    "\n",
    "#mapping hubs score\n",
    "X_train_sample['hubs_s'] = X_train_sample.source_node.apply(lambda x: hits[0].get(x,0))\n",
    "X_train_sample['hubs_d'] = X_train_sample.destination_node.apply(lambda x: hits[0].get(x,0))\n",
    "\n",
    "X_test_sample['hubs_s'] = X_test_sample.source_node.apply(lambda x: hits[0].get(x,0))\n",
    "X_test_sample['hubs_d'] = X_test_sample.destination_node.apply(lambda x: hits[0].get(x,0))\n",
    "\n",
    "#mapping authorities score\n",
    "X_train_sample['authorities_s'] = X_train_sample.source_node.apply(lambda x: hits[1].get(x,0))\n",
    "X_train_sample['authorities_d'] = X_train_sample.destination_node.apply(lambda x: hits[1].get(x,0))\n",
    "\n",
    "X_test_sample['authorities_s'] = X_test_sample.source_node.apply(lambda x: hits[1].get(x,0))\n",
    "X_test_sample['authorities_d'] = X_test_sample.destination_node.apply(lambda x: hits[1].get(x,0))"
   ]
  },
  {
   "cell_type": "code",
   "execution_count": 116,
   "metadata": {},
   "outputs": [],
   "source": [
    "X_train_sample[['svd_u_s_1', 'svd_u_s_2','svd_u_s_3', 'svd_u_s_4', 'svd_u_s_5', 'svd_u_s_6']] = \\\n",
    "X_train_sample.source_node.apply(lambda x: svd(x, U)).apply(pd.Series)\n",
    "    \n",
    "X_train_sample[['svd_u_d_1', 'svd_u_d_2', 'svd_u_d_3', 'svd_u_d_4', 'svd_u_d_5','svd_u_d_6']] = \\\n",
    "X_train_sample.destination_node.apply(lambda x: svd(x, U)).apply(pd.Series)\n",
    "    \n",
    "X_train_sample[['svd_v_s_1','svd_v_s_2', 'svd_v_s_3', 'svd_v_s_4', 'svd_v_s_5', 'svd_v_s_6',]] = \\\n",
    "X_train_sample.source_node.apply(lambda x: svd(x, V.T)).apply(pd.Series)\n",
    "\n",
    "X_train_sample[['svd_v_d_1', 'svd_v_d_2', 'svd_v_d_3', 'svd_v_d_4', 'svd_v_d_5','svd_v_d_6']] = \\\n",
    "X_train_sample.destination_node.apply(lambda x: svd(x, V.T)).apply(pd.Series)\n",
    "    \n",
    "X_test_sample[['svd_u_s_1', 'svd_u_s_2','svd_u_s_3', 'svd_u_s_4', 'svd_u_s_5', 'svd_u_s_6']] = \\\n",
    "X_test_sample.source_node.apply(lambda x: svd(x, U)).apply(pd.Series)\n",
    "    \n",
    "X_test_sample[['svd_u_d_1', 'svd_u_d_2', 'svd_u_d_3', 'svd_u_d_4', 'svd_u_d_5','svd_u_d_6']] = \\\n",
    "X_test_sample.destination_node.apply(lambda x: svd(x, U)).apply(pd.Series)\n",
    "\n",
    "   \n",
    "    \n",
    "X_test_sample[['svd_v_s_1','svd_v_s_2', 'svd_v_s_3', 'svd_v_s_4', 'svd_v_s_5', 'svd_v_s_6',]] = \\\n",
    "X_test_sample.source_node.apply(lambda x: svd(x, V.T)).apply(pd.Series)\n",
    "\n",
    "X_test_sample[['svd_v_d_1', 'svd_v_d_2', 'svd_v_d_3', 'svd_v_d_4', 'svd_v_d_5','svd_v_d_6']] = \\\n",
    "X_test_sample.destination_node.apply(lambda x: svd(x, V.T)).apply(pd.Series)"
   ]
  },
  {
   "cell_type": "code",
   "execution_count": 117,
   "metadata": {},
   "outputs": [
    {
     "data": {
      "text/html": [
       "<div>\n",
       "<style scoped>\n",
       "    .dataframe tbody tr th:only-of-type {\n",
       "        vertical-align: middle;\n",
       "    }\n",
       "\n",
       "    .dataframe tbody tr th {\n",
       "        vertical-align: top;\n",
       "    }\n",
       "\n",
       "    .dataframe thead th {\n",
       "        text-align: right;\n",
       "    }\n",
       "</style>\n",
       "<table border=\"1\" class=\"dataframe\">\n",
       "  <thead>\n",
       "    <tr style=\"text-align: right;\">\n",
       "      <th></th>\n",
       "      <th>source_node</th>\n",
       "      <th>destination_node</th>\n",
       "      <th>link_present</th>\n",
       "      <th>jaccard_followers</th>\n",
       "      <th>jaccard_followees</th>\n",
       "      <th>cosine_followers</th>\n",
       "      <th>cosine_followees</th>\n",
       "      <th>adam_adar</th>\n",
       "      <th>follow_back</th>\n",
       "      <th>pref_attach_followees</th>\n",
       "      <th>...</th>\n",
       "      <th>svd_v_s_3</th>\n",
       "      <th>svd_v_s_4</th>\n",
       "      <th>svd_v_s_5</th>\n",
       "      <th>svd_v_s_6</th>\n",
       "      <th>svd_v_d_1</th>\n",
       "      <th>svd_v_d_2</th>\n",
       "      <th>svd_v_d_3</th>\n",
       "      <th>svd_v_d_4</th>\n",
       "      <th>svd_v_d_5</th>\n",
       "      <th>svd_v_d_6</th>\n",
       "    </tr>\n",
       "  </thead>\n",
       "  <tbody>\n",
       "    <tr>\n",
       "      <th>6291458</th>\n",
       "      <td>1010723</td>\n",
       "      <td>1185956</td>\n",
       "      <td>1</td>\n",
       "      <td>0.000000</td>\n",
       "      <td>0.00</td>\n",
       "      <td>0.000000</td>\n",
       "      <td>0.000000</td>\n",
       "      <td>0</td>\n",
       "      <td>1</td>\n",
       "      <td>160</td>\n",
       "      <td>...</td>\n",
       "      <td>2.731791e-13</td>\n",
       "      <td>5.551673e-15</td>\n",
       "      <td>7.243611e-13</td>\n",
       "      <td>2.523976e-17</td>\n",
       "      <td>-5.810401e-16</td>\n",
       "      <td>2.408229e-13</td>\n",
       "      <td>2.557135e-14</td>\n",
       "      <td>1.001455e-15</td>\n",
       "      <td>1.367988e-13</td>\n",
       "      <td>6.455486e-18</td>\n",
       "    </tr>\n",
       "    <tr>\n",
       "      <th>6553612</th>\n",
       "      <td>1051841</td>\n",
       "      <td>1355238</td>\n",
       "      <td>1</td>\n",
       "      <td>0.266667</td>\n",
       "      <td>0.55</td>\n",
       "      <td>0.164957</td>\n",
       "      <td>0.177512</td>\n",
       "      <td>0</td>\n",
       "      <td>1</td>\n",
       "      <td>240</td>\n",
       "      <td>...</td>\n",
       "      <td>5.056419e-15</td>\n",
       "      <td>2.293394e-15</td>\n",
       "      <td>2.678512e-13</td>\n",
       "      <td>2.995811e-09</td>\n",
       "      <td>-3.101308e-17</td>\n",
       "      <td>8.660957e-19</td>\n",
       "      <td>1.530805e-15</td>\n",
       "      <td>1.123991e-15</td>\n",
       "      <td>1.719397e-15</td>\n",
       "      <td>9.029851e-10</td>\n",
       "    </tr>\n",
       "    <tr>\n",
       "      <th>3670031</th>\n",
       "      <td>1271092</td>\n",
       "      <td>1288365</td>\n",
       "      <td>1</td>\n",
       "      <td>0.200000</td>\n",
       "      <td>0.25</td>\n",
       "      <td>0.176777</td>\n",
       "      <td>0.235702</td>\n",
       "      <td>0</td>\n",
       "      <td>1</td>\n",
       "      <td>6</td>\n",
       "      <td>...</td>\n",
       "      <td>1.137743e-08</td>\n",
       "      <td>1.884176e-15</td>\n",
       "      <td>1.856644e-15</td>\n",
       "      <td>1.106696e-16</td>\n",
       "      <td>-4.023262e-15</td>\n",
       "      <td>3.296041e-15</td>\n",
       "      <td>1.162572e-08</td>\n",
       "      <td>1.913851e-15</td>\n",
       "      <td>1.880693e-15</td>\n",
       "      <td>1.146107e-16</td>\n",
       "    </tr>\n",
       "  </tbody>\n",
       "</table>\n",
       "<p>3 rows × 59 columns</p>\n",
       "</div>"
      ],
      "text/plain": [
       "         source_node  destination_node  link_present  jaccard_followers  \\\n",
       "6291458      1010723           1185956             1           0.000000   \n",
       "6553612      1051841           1355238             1           0.266667   \n",
       "3670031      1271092           1288365             1           0.200000   \n",
       "\n",
       "         jaccard_followees  cosine_followers  cosine_followees  adam_adar  \\\n",
       "6291458               0.00          0.000000          0.000000          0   \n",
       "6553612               0.55          0.164957          0.177512          0   \n",
       "3670031               0.25          0.176777          0.235702          0   \n",
       "\n",
       "         follow_back  pref_attach_followees  ...     svd_v_s_3     svd_v_s_4  \\\n",
       "6291458            1                    160  ...  2.731791e-13  5.551673e-15   \n",
       "6553612            1                    240  ...  5.056419e-15  2.293394e-15   \n",
       "3670031            1                      6  ...  1.137743e-08  1.884176e-15   \n",
       "\n",
       "            svd_v_s_5     svd_v_s_6     svd_v_d_1     svd_v_d_2     svd_v_d_3  \\\n",
       "6291458  7.243611e-13  2.523976e-17 -5.810401e-16  2.408229e-13  2.557135e-14   \n",
       "6553612  2.678512e-13  2.995811e-09 -3.101308e-17  8.660957e-19  1.530805e-15   \n",
       "3670031  1.856644e-15  1.106696e-16 -4.023262e-15  3.296041e-15  1.162572e-08   \n",
       "\n",
       "            svd_v_d_4     svd_v_d_5     svd_v_d_6  \n",
       "6291458  1.001455e-15  1.367988e-13  6.455486e-18  \n",
       "6553612  1.123991e-15  1.719397e-15  9.029851e-10  \n",
       "3670031  1.913851e-15  1.880693e-15  1.146107e-16  \n",
       "\n",
       "[3 rows x 59 columns]"
      ]
     },
     "execution_count": 117,
     "metadata": {},
     "output_type": "execute_result"
    }
   ],
   "source": [
    "X_train_sample.head(3)"
   ]
  },
  {
   "cell_type": "code",
   "execution_count": 118,
   "metadata": {},
   "outputs": [
    {
     "data": {
      "text/plain": [
       "Index(['source_node', 'destination_node', 'link_present', 'jaccard_followers',\n",
       "       'jaccard_followees', 'cosine_followers', 'cosine_followees',\n",
       "       'adam_adar', 'follow_back', 'pref_attach_followees',\n",
       "       'pref_attach_followers', 'svd_dot_U', 'svd_dot_V', 'shortest_path',\n",
       "       'same_community', 'num_followers_s', 'num_followers_d',\n",
       "       'num_followees_s', 'num_followees_d', 'inter_followers',\n",
       "       'inter_followees', 'weight_in', 'weight_out', 'weight_f1', 'weight_f2',\n",
       "       'weight_f3', 'weight_f4', 'page_rank_s', 'page_rank_d', 'katz_s',\n",
       "       'katz_d', 'hubs_s', 'hubs_d', 'authorities_s', 'authorities_d',\n",
       "       'svd_u_s_1', 'svd_u_s_2', 'svd_u_s_3', 'svd_u_s_4', 'svd_u_s_5',\n",
       "       'svd_u_s_6', 'svd_u_d_1', 'svd_u_d_2', 'svd_u_d_3', 'svd_u_d_4',\n",
       "       'svd_u_d_5', 'svd_u_d_6', 'svd_v_s_1', 'svd_v_s_2', 'svd_v_s_3',\n",
       "       'svd_v_s_4', 'svd_v_s_5', 'svd_v_s_6', 'svd_v_d_1', 'svd_v_d_2',\n",
       "       'svd_v_d_3', 'svd_v_d_4', 'svd_v_d_5', 'svd_v_d_6'],\n",
       "      dtype='object')"
      ]
     },
     "execution_count": 118,
     "metadata": {},
     "output_type": "execute_result"
    }
   ],
   "source": [
    "X_train_sample.columns"
   ]
  },
  {
   "cell_type": "code",
   "execution_count": 119,
   "metadata": {},
   "outputs": [
    {
     "data": {
      "text/html": [
       "<div>\n",
       "<style scoped>\n",
       "    .dataframe tbody tr th:only-of-type {\n",
       "        vertical-align: middle;\n",
       "    }\n",
       "\n",
       "    .dataframe tbody tr th {\n",
       "        vertical-align: top;\n",
       "    }\n",
       "\n",
       "    .dataframe thead th {\n",
       "        text-align: right;\n",
       "    }\n",
       "</style>\n",
       "<table border=\"1\" class=\"dataframe\">\n",
       "  <thead>\n",
       "    <tr style=\"text-align: right;\">\n",
       "      <th></th>\n",
       "      <th>source_node</th>\n",
       "      <th>destination_node</th>\n",
       "      <th>link_present</th>\n",
       "      <th>jaccard_followers</th>\n",
       "      <th>jaccard_followees</th>\n",
       "      <th>cosine_followers</th>\n",
       "      <th>cosine_followees</th>\n",
       "      <th>adam_adar</th>\n",
       "      <th>follow_back</th>\n",
       "      <th>pref_attach_followees</th>\n",
       "      <th>...</th>\n",
       "      <th>svd_v_s_3</th>\n",
       "      <th>svd_v_s_4</th>\n",
       "      <th>svd_v_s_5</th>\n",
       "      <th>svd_v_s_6</th>\n",
       "      <th>svd_v_d_1</th>\n",
       "      <th>svd_v_d_2</th>\n",
       "      <th>svd_v_d_3</th>\n",
       "      <th>svd_v_d_4</th>\n",
       "      <th>svd_v_d_5</th>\n",
       "      <th>svd_v_d_6</th>\n",
       "    </tr>\n",
       "  </thead>\n",
       "  <tbody>\n",
       "    <tr>\n",
       "      <th>917505</th>\n",
       "      <td>808619</td>\n",
       "      <td>1098894</td>\n",
       "      <td>1</td>\n",
       "      <td>0.0</td>\n",
       "      <td>0.000000</td>\n",
       "      <td>0.0</td>\n",
       "      <td>0.00000</td>\n",
       "      <td>0</td>\n",
       "      <td>0</td>\n",
       "      <td>46</td>\n",
       "      <td>...</td>\n",
       "      <td>1.588659e-07</td>\n",
       "      <td>6.515794e-11</td>\n",
       "      <td>1.148506e-10</td>\n",
       "      <td>4.037878e-12</td>\n",
       "      <td>-3.796623e-15</td>\n",
       "      <td>9.552882e-08</td>\n",
       "      <td>2.131200e-12</td>\n",
       "      <td>4.657093e-13</td>\n",
       "      <td>2.079463e-09</td>\n",
       "      <td>2.270670e-16</td>\n",
       "    </tr>\n",
       "    <tr>\n",
       "      <th>1179649</th>\n",
       "      <td>601375</td>\n",
       "      <td>1369764</td>\n",
       "      <td>1</td>\n",
       "      <td>0.0</td>\n",
       "      <td>0.000000</td>\n",
       "      <td>0.0</td>\n",
       "      <td>0.00000</td>\n",
       "      <td>0</td>\n",
       "      <td>0</td>\n",
       "      <td>171</td>\n",
       "      <td>...</td>\n",
       "      <td>6.364747e-11</td>\n",
       "      <td>3.039484e-13</td>\n",
       "      <td>2.700122e-14</td>\n",
       "      <td>1.896726e-15</td>\n",
       "      <td>-9.150557e-16</td>\n",
       "      <td>2.805086e-15</td>\n",
       "      <td>2.694283e-14</td>\n",
       "      <td>8.609006e-17</td>\n",
       "      <td>1.650542e-16</td>\n",
       "      <td>3.220262e-18</td>\n",
       "    </tr>\n",
       "    <tr>\n",
       "      <th>1441796</th>\n",
       "      <td>1226940</td>\n",
       "      <td>1653856</td>\n",
       "      <td>1</td>\n",
       "      <td>0.0</td>\n",
       "      <td>0.009804</td>\n",
       "      <td>0.0</td>\n",
       "      <td>0.01037</td>\n",
       "      <td>0</td>\n",
       "      <td>0</td>\n",
       "      <td>930</td>\n",
       "      <td>...</td>\n",
       "      <td>6.230235e-05</td>\n",
       "      <td>9.405142e-11</td>\n",
       "      <td>1.277081e-09</td>\n",
       "      <td>2.243196e-11</td>\n",
       "      <td>-1.325034e-11</td>\n",
       "      <td>2.694142e-11</td>\n",
       "      <td>2.611384e-09</td>\n",
       "      <td>6.132215e-10</td>\n",
       "      <td>5.008377e-11</td>\n",
       "      <td>3.527300e-13</td>\n",
       "    </tr>\n",
       "  </tbody>\n",
       "</table>\n",
       "<p>3 rows × 59 columns</p>\n",
       "</div>"
      ],
      "text/plain": [
       "         source_node  destination_node  link_present  jaccard_followers  \\\n",
       "917505        808619           1098894             1                0.0   \n",
       "1179649       601375           1369764             1                0.0   \n",
       "1441796      1226940           1653856             1                0.0   \n",
       "\n",
       "         jaccard_followees  cosine_followers  cosine_followees  adam_adar  \\\n",
       "917505            0.000000               0.0           0.00000          0   \n",
       "1179649           0.000000               0.0           0.00000          0   \n",
       "1441796           0.009804               0.0           0.01037          0   \n",
       "\n",
       "         follow_back  pref_attach_followees  ...     svd_v_s_3     svd_v_s_4  \\\n",
       "917505             0                     46  ...  1.588659e-07  6.515794e-11   \n",
       "1179649            0                    171  ...  6.364747e-11  3.039484e-13   \n",
       "1441796            0                    930  ...  6.230235e-05  9.405142e-11   \n",
       "\n",
       "            svd_v_s_5     svd_v_s_6     svd_v_d_1     svd_v_d_2     svd_v_d_3  \\\n",
       "917505   1.148506e-10  4.037878e-12 -3.796623e-15  9.552882e-08  2.131200e-12   \n",
       "1179649  2.700122e-14  1.896726e-15 -9.150557e-16  2.805086e-15  2.694283e-14   \n",
       "1441796  1.277081e-09  2.243196e-11 -1.325034e-11  2.694142e-11  2.611384e-09   \n",
       "\n",
       "            svd_v_d_4     svd_v_d_5     svd_v_d_6  \n",
       "917505   4.657093e-13  2.079463e-09  2.270670e-16  \n",
       "1179649  8.609006e-17  1.650542e-16  3.220262e-18  \n",
       "1441796  6.132215e-10  5.008377e-11  3.527300e-13  \n",
       "\n",
       "[3 rows x 59 columns]"
      ]
     },
     "execution_count": 119,
     "metadata": {},
     "output_type": "execute_result"
    }
   ],
   "source": [
    "X_test_sample.head(3)\n"
   ]
  },
  {
   "cell_type": "markdown",
   "metadata": {},
   "source": [
    "# Feeding into Machine learning models"
   ]
  },
  {
   "cell_type": "code",
   "execution_count": 120,
   "metadata": {},
   "outputs": [],
   "source": [
    "y_train_sample = X_train_sample['link_present']\n",
    "y_test_sample = X_test_sample['link_present']"
   ]
  },
  {
   "cell_type": "code",
   "execution_count": 121,
   "metadata": {},
   "outputs": [],
   "source": [
    "X_train_sample.drop(['source_node', 'destination_node','link_present'],axis=1,inplace=True)\n",
    "X_test_sample.drop(['source_node', 'destination_node','link_present'],axis=1,inplace=True)"
   ]
  },
  {
   "cell_type": "code",
   "execution_count": 122,
   "metadata": {},
   "outputs": [
    {
     "data": {
      "text/html": [
       "<div>\n",
       "<style scoped>\n",
       "    .dataframe tbody tr th:only-of-type {\n",
       "        vertical-align: middle;\n",
       "    }\n",
       "\n",
       "    .dataframe tbody tr th {\n",
       "        vertical-align: top;\n",
       "    }\n",
       "\n",
       "    .dataframe thead th {\n",
       "        text-align: right;\n",
       "    }\n",
       "</style>\n",
       "<table border=\"1\" class=\"dataframe\">\n",
       "  <thead>\n",
       "    <tr style=\"text-align: right;\">\n",
       "      <th></th>\n",
       "      <th>jaccard_followers</th>\n",
       "      <th>jaccard_followees</th>\n",
       "      <th>cosine_followers</th>\n",
       "      <th>cosine_followees</th>\n",
       "      <th>adam_adar</th>\n",
       "      <th>follow_back</th>\n",
       "      <th>pref_attach_followees</th>\n",
       "      <th>pref_attach_followers</th>\n",
       "      <th>svd_dot_U</th>\n",
       "      <th>svd_dot_V</th>\n",
       "      <th>...</th>\n",
       "      <th>svd_v_s_3</th>\n",
       "      <th>svd_v_s_4</th>\n",
       "      <th>svd_v_s_5</th>\n",
       "      <th>svd_v_s_6</th>\n",
       "      <th>svd_v_d_1</th>\n",
       "      <th>svd_v_d_2</th>\n",
       "      <th>svd_v_d_3</th>\n",
       "      <th>svd_v_d_4</th>\n",
       "      <th>svd_v_d_5</th>\n",
       "      <th>svd_v_d_6</th>\n",
       "    </tr>\n",
       "  </thead>\n",
       "  <tbody>\n",
       "    <tr>\n",
       "      <th>6291458</th>\n",
       "      <td>0.000000</td>\n",
       "      <td>0.00</td>\n",
       "      <td>0.000000</td>\n",
       "      <td>0.000000</td>\n",
       "      <td>0</td>\n",
       "      <td>1</td>\n",
       "      <td>160</td>\n",
       "      <td>50</td>\n",
       "      <td>-51.750676</td>\n",
       "      <td>-54.366186</td>\n",
       "      <td>...</td>\n",
       "      <td>2.731791e-13</td>\n",
       "      <td>5.551673e-15</td>\n",
       "      <td>7.243611e-13</td>\n",
       "      <td>2.523976e-17</td>\n",
       "      <td>-5.810401e-16</td>\n",
       "      <td>2.408229e-13</td>\n",
       "      <td>2.557135e-14</td>\n",
       "      <td>1.001455e-15</td>\n",
       "      <td>1.367988e-13</td>\n",
       "      <td>6.455486e-18</td>\n",
       "    </tr>\n",
       "    <tr>\n",
       "      <th>6553612</th>\n",
       "      <td>0.266667</td>\n",
       "      <td>0.55</td>\n",
       "      <td>0.164957</td>\n",
       "      <td>0.177512</td>\n",
       "      <td>0</td>\n",
       "      <td>1</td>\n",
       "      <td>240</td>\n",
       "      <td>84</td>\n",
       "      <td>-44.508145</td>\n",
       "      <td>-40.451366</td>\n",
       "      <td>...</td>\n",
       "      <td>5.056419e-15</td>\n",
       "      <td>2.293394e-15</td>\n",
       "      <td>2.678512e-13</td>\n",
       "      <td>2.995811e-09</td>\n",
       "      <td>-3.101308e-17</td>\n",
       "      <td>8.660957e-19</td>\n",
       "      <td>1.530805e-15</td>\n",
       "      <td>1.123991e-15</td>\n",
       "      <td>1.719397e-15</td>\n",
       "      <td>9.029851e-10</td>\n",
       "    </tr>\n",
       "  </tbody>\n",
       "</table>\n",
       "<p>2 rows × 56 columns</p>\n",
       "</div>"
      ],
      "text/plain": [
       "         jaccard_followers  jaccard_followees  cosine_followers  \\\n",
       "6291458           0.000000               0.00          0.000000   \n",
       "6553612           0.266667               0.55          0.164957   \n",
       "\n",
       "         cosine_followees  adam_adar  follow_back  pref_attach_followees  \\\n",
       "6291458          0.000000          0            1                    160   \n",
       "6553612          0.177512          0            1                    240   \n",
       "\n",
       "         pref_attach_followers  svd_dot_U  svd_dot_V  ...     svd_v_s_3  \\\n",
       "6291458                     50 -51.750676 -54.366186  ...  2.731791e-13   \n",
       "6553612                     84 -44.508145 -40.451366  ...  5.056419e-15   \n",
       "\n",
       "            svd_v_s_4     svd_v_s_5     svd_v_s_6     svd_v_d_1     svd_v_d_2  \\\n",
       "6291458  5.551673e-15  7.243611e-13  2.523976e-17 -5.810401e-16  2.408229e-13   \n",
       "6553612  2.293394e-15  2.678512e-13  2.995811e-09 -3.101308e-17  8.660957e-19   \n",
       "\n",
       "            svd_v_d_3     svd_v_d_4     svd_v_d_5     svd_v_d_6  \n",
       "6291458  2.557135e-14  1.001455e-15  1.367988e-13  6.455486e-18  \n",
       "6553612  1.530805e-15  1.123991e-15  1.719397e-15  9.029851e-10  \n",
       "\n",
       "[2 rows x 56 columns]"
      ]
     },
     "execution_count": 122,
     "metadata": {},
     "output_type": "execute_result"
    }
   ],
   "source": [
    "X_train_sample.head(2)"
   ]
  },
  {
   "cell_type": "markdown",
   "metadata": {},
   "source": [
    "## Using Random Forest"
   ]
  },
  {
   "cell_type": "markdown",
   "metadata": {},
   "source": [
    "### Using Estimator as hyperparameter"
   ]
  },
  {
   "cell_type": "code",
   "execution_count": 123,
   "metadata": {},
   "outputs": [
    {
     "name": "stdout",
     "output_type": "stream",
     "text": [
      "Estimators =  10 Train Score 0.9157243122139755 test Score 0.8228610385183501\n",
      "Estimators =  50 Train Score 0.9250551449449594 test Score 0.8414552736982642\n",
      "Estimators =  100 Train Score 0.9232954545454546 test Score 0.8380422691879866\n",
      "Estimators =  250 Train Score 0.9236762402088772 test Score 0.8396666666666667\n",
      "Estimators =  450 Train Score 0.9236264884061 test Score 0.8404042647712127\n"
     ]
    },
    {
     "data": {
      "text/plain": [
       "Text(0.5, 1.0, 'Estimators vs score at depth of 5')"
      ]
     },
     "execution_count": 123,
     "metadata": {},
     "output_type": "execute_result"
    },
    {
     "data": {
      "image/png": "[encoded data removed]",
      "text/plain": [
       "<Figure size 432x288 with 1 Axes>"
      ]
     },
     "metadata": {},
     "output_type": "display_data"
    }
   ],
   "source": [
    "estimators = [10,50,100,250,450]\n",
    "train_scores = []\n",
    "test_scores = []\n",
    "for i in estimators:\n",
    "    clf = RandomForestClassifier(bootstrap=True, class_weight=None, criterion='gini',\n",
    "            max_depth=5, max_features='auto', max_leaf_nodes=None,\n",
    "            min_impurity_decrease=0.0, min_impurity_split=None,\n",
    "            min_samples_leaf=52, min_samples_split=120,\n",
    "            min_weight_fraction_leaf=0.0, n_estimators=i, n_jobs=-1,random_state=25,verbose=0,warm_start=False)\n",
    "    clf.fit(X_train_sample,y_train_sample)\n",
    "    train_sc = f1_score(y_train_sample,clf.predict(X_train_sample))\n",
    "    test_sc = f1_score(y_test_sample,clf.predict(X_test_sample))\n",
    "    test_scores.append(test_sc)\n",
    "    train_scores.append(train_sc)\n",
    "    print('Estimators = ',i,'Train Score',train_sc,'test Score',test_sc)\n",
    "plt.plot(estimators,train_scores,label='Train Score')\n",
    "plt.plot(estimators,test_scores,label='Test Score')\n",
    "plt.xlabel('Estimators')\n",
    "plt.ylabel('Score')\n",
    "plt.title('Estimators vs score at depth of 5')"
   ]
  },
  {
   "cell_type": "code",
   "execution_count": 124,
   "metadata": {},
   "outputs": [
    {
     "data": {
      "text/plain": [
       "Index(['jaccard_followers', 'jaccard_followees', 'cosine_followers',\n",
       "       'cosine_followees', 'adam_adar', 'follow_back', 'pref_attach_followees',\n",
       "       'pref_attach_followers', 'svd_dot_U', 'svd_dot_V', 'shortest_path',\n",
       "       'same_community', 'num_followers_s', 'num_followers_d',\n",
       "       'num_followees_s', 'num_followees_d', 'inter_followers',\n",
       "       'inter_followees', 'weight_in', 'weight_out', 'weight_f1', 'weight_f2',\n",
       "       'weight_f3', 'weight_f4', 'page_rank_s', 'page_rank_d', 'katz_s',\n",
       "       'katz_d', 'hubs_s', 'hubs_d', 'authorities_s', 'authorities_d',\n",
       "       'svd_u_s_1', 'svd_u_s_2', 'svd_u_s_3', 'svd_u_s_4', 'svd_u_s_5',\n",
       "       'svd_u_s_6', 'svd_u_d_1', 'svd_u_d_2', 'svd_u_d_3', 'svd_u_d_4',\n",
       "       'svd_u_d_5', 'svd_u_d_6', 'svd_v_s_1', 'svd_v_s_2', 'svd_v_s_3',\n",
       "       'svd_v_s_4', 'svd_v_s_5', 'svd_v_s_6', 'svd_v_d_1', 'svd_v_d_2',\n",
       "       'svd_v_d_3', 'svd_v_d_4', 'svd_v_d_5', 'svd_v_d_6'],\n",
       "      dtype='object')"
      ]
     },
     "execution_count": 124,
     "metadata": {},
     "output_type": "execute_result"
    }
   ],
   "source": [
    "X_train_sample.columns"
   ]
  },
  {
   "cell_type": "code",
   "execution_count": 125,
   "metadata": {},
   "outputs": [
    {
     "data": {
      "text/plain": [
       "0    72350\n",
       "1    27650\n",
       "Name: follow_back, dtype: int64"
      ]
     },
     "execution_count": 125,
     "metadata": {},
     "output_type": "execute_result"
    }
   ],
   "source": [
    "X_train_sample.follow_back.value_counts()"
   ]
  },
  {
   "cell_type": "markdown",
   "metadata": {},
   "source": [
    "### Using Depth as hyperparameter"
   ]
  },
  {
   "cell_type": "code",
   "execution_count": 129,
   "metadata": {},
   "outputs": [
    {
     "name": "stdout",
     "output_type": "stream",
     "text": [
      "depth =  3 Train Score 0.8996850163749764 test Score 0.833451530194752\n",
      "depth =  9 Train Score 0.9544569073348781 test Score 0.8486501530754245\n",
      "depth =  11 Train Score 0.9616806585370835 test Score 0.8466867806458822\n",
      "depth =  15 Train Score 0.9679323434526413 test Score 0.8463304036276101\n",
      "depth =  20 Train Score 0.9677805992889792 test Score 0.848907225691347\n",
      "depth =  35 Train Score 0.9674095301972502 test Score 0.8485186631702282\n",
      "depth =  50 Train Score 0.9674095301972502 test Score 0.8485186631702282\n",
      "depth =  70 Train Score 0.9674095301972502 test Score 0.8485186631702282\n",
      "depth =  130 Train Score 0.9674095301972502 test Score 0.8485186631702282\n"
     ]
    },
    {
     "data": {
      "image/png": "[encoded data removed]",
      "text/plain": [
       "<Figure size 432x288 with 1 Axes>"
      ]
     },
     "metadata": {},
     "output_type": "display_data"
    }
   ],
   "source": [
    "depths = [3,9,11,15,20,35,50,70,130]\n",
    "train_scores = []\n",
    "test_scores = []\n",
    "for i in depths:\n",
    "    clf = RandomForestClassifier(bootstrap=True, class_weight=None, criterion='gini',\n",
    "            max_depth=i, max_features='auto', max_leaf_nodes=None,\n",
    "            min_impurity_decrease=0.0, min_impurity_split=None,\n",
    "            min_samples_leaf=52, min_samples_split=120,\n",
    "            min_weight_fraction_leaf=0.0, n_estimators=115, n_jobs=-1,random_state=25,verbose=0,warm_start=False)\n",
    "    clf.fit(X_train_sample,y_train_sample)\n",
    "    train_sc = f1_score(y_train_sample,clf.predict(X_train_sample))\n",
    "    test_sc = f1_score(y_test_sample,clf.predict(X_test_sample))\n",
    "    test_scores.append(test_sc)\n",
    "    train_scores.append(train_sc)\n",
    "    print('depth = ',i,'Train Score',train_sc,'test Score',test_sc)\n",
    "plt.plot(depths,train_scores,label='Train Score')\n",
    "plt.plot(depths,test_scores,label='Test Score')\n",
    "plt.xlabel('Depth')\n",
    "plt.ylabel('Score')\n",
    "plt.title('Depth vs score at depth of 5 at estimators = 115')\n",
    "plt.show()"
   ]
  },
  {
   "cell_type": "markdown",
   "metadata": {},
   "source": [
    "### Using Randomized search CV"
   ]
  },
  {
   "cell_type": "code",
   "execution_count": 137,
   "metadata": {},
   "outputs": [
    {
     "name": "stdout",
     "output_type": "stream",
     "text": [
      "mean train scores [0.96583979 0.96593856 0.96612523 0.96684313 0.96452541]\n"
     ]
    }
   ],
   "source": [
    "from sklearn.metrics import f1_score\n",
    "from sklearn.ensemble import RandomForestClassifier\n",
    "from sklearn.metrics import f1_score\n",
    "from sklearn.model_selection import RandomizedSearchCV\n",
    "from scipy.stats import randint as sp_randint\n",
    "from scipy.stats import uniform\n",
    "\n",
    "param_dist = {\"n_estimators\":sp_randint(95,125),\n",
    "              \"max_depth\": sp_randint(10,20),\n",
    "              \"min_samples_split\": sp_randint(110,190),\n",
    "              \"min_samples_leaf\": sp_randint(25,65)}\n",
    "\n",
    "clf = RandomForestClassifier(random_state=25,n_jobs=-1)\n",
    "\n",
    "rf_random = RandomizedSearchCV(clf, param_distributions=param_dist,\n",
    "                                   n_iter=5,cv=10,scoring='f1',random_state=25)\n",
    "\n",
    "rf_random.fit(X_train_sample,y_train_sample)\n",
    "print('mean train scores',rf_random.cv_results_['mean_test_score'])"
   ]
  },
  {
   "cell_type": "code",
   "execution_count": 145,
   "metadata": {},
   "outputs": [
    {
     "data": {
      "text/plain": [
       "{'max_depth': 14,\n",
       " 'min_samples_leaf': 30,\n",
       " 'min_samples_split': 111,\n",
       " 'n_estimators': 102}"
      ]
     },
     "execution_count": 145,
     "metadata": {},
     "output_type": "execute_result"
    }
   ],
   "source": [
    "rf_random.best_params_"
   ]
  },
  {
   "cell_type": "code",
   "execution_count": 151,
   "metadata": {},
   "outputs": [],
   "source": [
    "best_params_dist = {'n_estimators':[102],\n",
    "                   'min_samples_leaf':[30],\n",
    "                   'max_depth':[14],\n",
    "                   'min_samples_split':[111]}"
   ]
  },
  {
   "cell_type": "code",
   "execution_count": 155,
   "metadata": {},
   "outputs": [
    {
     "name": "stdout",
     "output_type": "stream",
     "text": [
      "Train f1 score:  0.969165234895235\n",
      "Train Accuracy is:  0.96967\n",
      "Test f1 score:  0.8488911234009273\n",
      "Test Accuracy is:  0.86475\n"
     ]
    }
   ],
   "source": [
    "clf_best = RandomForestClassifier(random_state=25,n_jobs=-1,n_estimators=102,min_samples_leaf=30,max_depth=14,min_samples_split=111)\n",
    "\n",
    "clf_best.fit(X_train_sample,y_train_sample)\n",
    "print('Train f1 score: ',f1_score(y_train_sample,clf_best.predict(X_train_sample)))\n",
    "print('Train Accuracy is: ',accuracy_score(y_train_sample,clf_best.predict(X_train_sample)))\n",
    "print('Test f1 score: ',f1_score(y_test_sample,clf_best.predict(X_test_sample)))\n",
    "print('Test Accuracy is: ',accuracy_score(y_test_sample,clf_best.predict(X_test_sample)))\n"
   ]
  },
  {
   "cell_type": "markdown",
   "metadata": {},
   "source": [
    "## Confusion Matrix"
   ]
  },
  {
   "cell_type": "code",
   "execution_count": 162,
   "metadata": {},
   "outputs": [],
   "source": [
    "def plot_confusion_matrix(test_y, predict_y):\n",
    "    C = confusion_matrix(test_y, predict_y)\n",
    "    \n",
    "    A =(((C.T)/(C.sum(axis=1))).T)\n",
    "    \n",
    "    B =(C/C.sum(axis=0))\n",
    "    plt.figure(figsize=(20,4))\n",
    "    \n",
    "    labels = [0,1]\n",
    "    # representing A in heatmap format\n",
    "    cmap=sns.light_palette(\"blue\")\n",
    "    plt.subplot(1, 3, 1)\n",
    "    sns.heatmap(C, annot=True, cmap=cmap, fmt=\".3f\", xticklabels=labels, yticklabels=labels)\n",
    "    plt.xlabel('Predicted Class')\n",
    "    plt.ylabel('Original Class')\n",
    "    plt.title(\"Confusion matrix\")\n",
    "    \n",
    "    plt.subplot(1, 3, 2)\n",
    "    sns.heatmap(B, annot=True, cmap=cmap, fmt=\".3f\", xticklabels=labels, yticklabels=labels)\n",
    "    plt.xlabel('Predicted Class')\n",
    "    plt.ylabel('Original Class')\n",
    "    plt.title(\"Precision matrix\")\n",
    "    \n",
    "    plt.subplot(1, 3, 3)\n",
    "    # representing B in heatmap format\n",
    "    sns.heatmap(A, annot=True, cmap=cmap, fmt=\".3f\", xticklabels=labels, yticklabels=labels)\n",
    "    plt.xlabel('Predicted Class')\n",
    "    plt.ylabel('Original Class')\n",
    "    plt.title(\"Recall matrix\")\n",
    "    \n",
    "    plt.show()"
   ]
  },
  {
   "cell_type": "code",
   "execution_count": 163,
   "metadata": {},
   "outputs": [
    {
     "data": {
      "image/png": "[encoded data removed]",
      "text/plain": [
       "<Figure size 1440x288 with 6 Axes>"
      ]
     },
     "metadata": {},
     "output_type": "display_data"
    }
   ],
   "source": [
    "plot_confusion_matrix(y_test_sample,clf_best.predict(X_test_sample))"
   ]
  },
  {
   "cell_type": "code",
   "execution_count": 166,
   "metadata": {},
   "outputs": [
    {
     "data": {
      "image/png": "[encoded data removed]",
      "text/plain": [
       "<Figure size 432x288 with 1 Axes>"
      ]
     },
     "metadata": {},
     "output_type": "display_data"
    }
   ],
   "source": [
    "from sklearn.metrics import roc_curve, auc\n",
    "fpr,tpr,ths = roc_curve(y_test_sample,clf_best.predict(X_test_sample))\n",
    "auc_sc = auc(fpr, tpr)\n",
    "plt.plot(fpr, tpr, color='navy',label='ROC curve (area = %0.2f)' % auc_sc)\n",
    "plt.xlabel('False Positive Rate')\n",
    "plt.ylabel('True Positive Rate')\n",
    "plt.title('Receiver operating characteristic with test data')\n",
    "plt.legend()\n",
    "plt.grid()\n",
    "plt.show()"
   ]
  },
  {
   "cell_type": "code",
   "execution_count": 167,
   "metadata": {},
   "outputs": [
    {
     "data": {
      "image/png": "[encoded data removed]",
      "text/plain": [
       "<Figure size 720x864 with 1 Axes>"
      ]
     },
     "metadata": {},
     "output_type": "display_data"
    }
   ],
   "source": [
    "features = X_train_sample.columns\n",
    "importances = clf_best.feature_importances_\n",
    "indices = (np.argsort(importances))[-25:]\n",
    "plt.figure(figsize=(10,12))\n",
    "plt.title('Feature Importances')\n",
    "plt.barh(range(len(indices)), importances[indices], color='r', align='center')\n",
    "plt.yticks(range(len(indices)), [features[i] for i in indices])\n",
    "plt.xlabel('Relative Importance')\n",
    "plt.show()"
   ]
  },
  {
   "cell_type": "markdown",
   "metadata": {},
   "source": [
    "## Using XGBoost"
   ]
  },
  {
   "cell_type": "code",
   "execution_count": 172,
   "metadata": {},
   "outputs": [
    {
     "name": "stdout",
     "output_type": "stream",
     "text": [
      "Fitting 5 folds for each of 10 candidates, totalling 50 fits\n"
     ]
    },
    {
     "name": "stderr",
     "output_type": "stream",
     "text": [
      "[Parallel(n_jobs=-1)]: Using backend LokyBackend with 8 concurrent workers.\n",
      "[Parallel(n_jobs=-1)]: Done   1 tasks      | elapsed: 19.0min\n",
      "[Parallel(n_jobs=-1)]: Done   2 tasks      | elapsed: 19.1min\n",
      "[Parallel(n_jobs=-1)]: Done   3 tasks      | elapsed: 19.2min\n",
      "[Parallel(n_jobs=-1)]: Done   4 tasks      | elapsed: 28.5min\n",
      "[Parallel(n_jobs=-1)]: Done   5 tasks      | elapsed: 28.6min\n",
      "[Parallel(n_jobs=-1)]: Done   6 tasks      | elapsed: 28.6min\n",
      "[Parallel(n_jobs=-1)]: Done   7 tasks      | elapsed: 28.7min\n",
      "[Parallel(n_jobs=-1)]: Done   8 tasks      | elapsed: 28.7min\n",
      "[Parallel(n_jobs=-1)]: Done   9 tasks      | elapsed: 30.1min\n",
      "[Parallel(n_jobs=-1)]: Done  10 tasks      | elapsed: 31.5min\n",
      "[Parallel(n_jobs=-1)]: Done  11 tasks      | elapsed: 32.8min\n",
      "[Parallel(n_jobs=-1)]: Done  12 tasks      | elapsed: 34.2min\n",
      "[Parallel(n_jobs=-1)]: Done  13 tasks      | elapsed: 35.5min\n",
      "[Parallel(n_jobs=-1)]: Done  14 tasks      | elapsed: 36.7min\n",
      "[Parallel(n_jobs=-1)]: Done  15 tasks      | elapsed: 36.8min\n",
      "[Parallel(n_jobs=-1)]: Done  16 tasks      | elapsed: 41.1min\n",
      "[Parallel(n_jobs=-1)]: Done  17 tasks      | elapsed: 42.3min\n",
      "[Parallel(n_jobs=-1)]: Done  18 tasks      | elapsed: 42.3min\n",
      "[Parallel(n_jobs=-1)]: Done  19 tasks      | elapsed: 43.4min\n",
      "[Parallel(n_jobs=-1)]: Done  20 tasks      | elapsed: 47.0min\n",
      "[Parallel(n_jobs=-1)]: Done  21 tasks      | elapsed: 48.4min\n",
      "[Parallel(n_jobs=-1)]: Done  22 tasks      | elapsed: 51.6min\n",
      "[Parallel(n_jobs=-1)]: Done  23 tasks      | elapsed: 51.6min\n",
      "[Parallel(n_jobs=-1)]: Done  24 tasks      | elapsed: 51.8min\n",
      "[Parallel(n_jobs=-1)]: Done  25 tasks      | elapsed: 51.8min\n",
      "[Parallel(n_jobs=-1)]: Done  26 tasks      | elapsed: 51.9min\n",
      "[Parallel(n_jobs=-1)]: Done  27 tasks      | elapsed: 53.0min\n",
      "[Parallel(n_jobs=-1)]: Done  28 tasks      | elapsed: 56.2min\n",
      "[Parallel(n_jobs=-1)]: Done  29 tasks      | elapsed: 57.1min\n",
      "[Parallel(n_jobs=-1)]: Done  30 tasks      | elapsed: 57.2min\n",
      "[Parallel(n_jobs=-1)]: Done  31 tasks      | elapsed: 57.2min\n",
      "[Parallel(n_jobs=-1)]: Done  32 tasks      | elapsed: 57.3min\n",
      "[Parallel(n_jobs=-1)]: Done  33 tasks      | elapsed: 57.4min\n",
      "[Parallel(n_jobs=-1)]: Done  34 tasks      | elapsed: 58.3min\n",
      "[Parallel(n_jobs=-1)]: Done  35 tasks      | elapsed: 60.0min\n",
      "[Parallel(n_jobs=-1)]: Done  37 out of  50 | elapsed: 67.8min remaining: 23.8min\n",
      "[Parallel(n_jobs=-1)]: Done  39 out of  50 | elapsed: 69.4min remaining: 19.6min\n",
      "[Parallel(n_jobs=-1)]: Done  41 out of  50 | elapsed: 69.5min remaining: 15.3min\n",
      "[Parallel(n_jobs=-1)]: Done  43 out of  50 | elapsed: 69.6min remaining: 11.3min\n",
      "[Parallel(n_jobs=-1)]: Done  45 out of  50 | elapsed: 77.9min remaining:  8.7min\n",
      "[Parallel(n_jobs=-1)]: Done  47 out of  50 | elapsed: 79.7min remaining:  5.1min\n",
      "[Parallel(n_jobs=-1)]: Done  50 out of  50 | elapsed: 79.8min finished\n"
     ]
    },
    {
     "name": "stdout",
     "output_type": "stream",
     "text": [
      "[03:19:26] WARNING: C:/Users/Administrator/workspace/xgboost-win64_release_1.4.0/src/learner.cc:1095: Starting in XGBoost 1.3.0, the default evaluation metric used with the objective 'binary:logistic' was changed from 'error' to 'logloss'. Explicitly set eval_metric if you'd like to restore the old behavior.\n"
     ]
    },
    {
     "data": {
      "text/plain": [
       "RandomizedSearchCV(estimator=XGBClassifier(base_score=None, booster=None,\n",
       "                                           colsample_bylevel=None,\n",
       "                                           colsample_bynode=None,\n",
       "                                           colsample_bytree=None, gamma=None,\n",
       "                                           gpu_id=None, importance_type='gain',\n",
       "                                           interaction_constraints=None,\n",
       "                                           learning_rate=None,\n",
       "                                           max_delta_step=None, max_depth=None,\n",
       "                                           min_child_weight=None, missing=nan,\n",
       "                                           monotone_constraints=None,\n",
       "                                           n_estimators=100, n_job...\n",
       "                                           num_parallel_tree=None,\n",
       "                                           random_state=None, reg_alpha=None,\n",
       "                                           reg_lambda=None,\n",
       "                                           scale_pos_weight=None,\n",
       "                                           subsample=None, tree_method=None,\n",
       "                                           validate_parameters=None,\n",
       "                                           verbosity=None),\n",
       "                   n_jobs=-1,\n",
       "                   param_distributions={'colsample_bytree': [0.6, 0.8, 1.0],\n",
       "                                        'learning_rate': [0.01, 0.05, 0.1, 0.2],\n",
       "                                        'max_depth': [3, 5, 6, 7],\n",
       "                                        'n_estimators': [200, 500, 1000, 2000],\n",
       "                                        'subsample': [0.6, 0.8, 1.0]},\n",
       "                   verbose=30)"
      ]
     },
     "execution_count": 172,
     "metadata": {},
     "output_type": "execute_result"
    }
   ],
   "source": [
    "params = {}\n",
    "params['objective'] = 'binary:logistic'\n",
    "params['eval_metric'] = 'f1'\n",
    "\n",
    "params = {      \n",
    "        'learning_rate':[0.01,0.05,0.1,0.2],  \n",
    "        'n_estimators' :[200,500,1000,2000],   # number of decision trees         \n",
    "        'subsample': [0.6,0.8,1.0],              # row sampling\n",
    "        'colsample_bytree': [0.6,0.8,1.0],       # Column sampling\n",
    "        'max_depth': [3,5,6,7],      # Depth of decision tree                          \n",
    "          }\n",
    "xgboost = XGBClassifier()          \n",
    "random_cfl=RandomizedSearchCV(xgboost,param_distributions = params,verbose=30,n_jobs=-1)\n",
    "random_cfl.fit(X_train_sample,y_train_sample)"
   ]
  },
  {
   "cell_type": "code",
   "execution_count": 173,
   "metadata": {},
   "outputs": [
    {
     "data": {
      "text/plain": [
       "{'subsample': 0.6,\n",
       " 'n_estimators': 1000,\n",
       " 'max_depth': 6,\n",
       " 'learning_rate': 0.1,\n",
       " 'colsample_bytree': 1.0}"
      ]
     },
     "execution_count": 173,
     "metadata": {},
     "output_type": "execute_result"
    }
   ],
   "source": [
    "random_cfl.best_params_"
   ]
  },
  {
   "cell_type": "code",
   "execution_count": 174,
   "metadata": {},
   "outputs": [
    {
     "name": "stdout",
     "output_type": "stream",
     "text": [
      "[10:05:03] WARNING: C:/Users/Administrator/workspace/xgboost-win64_release_1.4.0/src/learner.cc:1095: Starting in XGBoost 1.3.0, the default evaluation metric used with the objective 'binary:logistic' was changed from 'error' to 'logloss'. Explicitly set eval_metric if you'd like to restore the old behavior.\n",
      "[10:07:09] WARNING: C:/Users/Administrator/workspace/xgboost-win64_release_1.4.0/src/learner.cc:1095: Starting in XGBoost 1.3.0, the default evaluation metric used with the objective 'binary:logistic' was changed from 'error' to 'logloss'. Explicitly set eval_metric if you'd like to restore the old behavior.\n"
     ]
    },
    {
     "data": {
      "text/plain": [
       "XGBClassifier(base_score=0.5, booster='gbtree', colsample_bylevel=1,\n",
       "              colsample_bynode=1, colsample_bytree=1.0, gamma=0, gpu_id=-1,\n",
       "              importance_type='gain', interaction_constraints='',\n",
       "              learning_rate=0.1, max_delta_step=0, max_depth=6,\n",
       "              min_child_weight=1, missing=nan, monotone_constraints='()',\n",
       "              n_estimators=1000, n_jobs=8, num_parallel_tree=1, random_state=0,\n",
       "              reg_alpha=0, reg_lambda=1, scale_pos_weight=1, subsample=0.6,\n",
       "              tree_method='exact', validate_parameters=1, verbosity=None)"
      ]
     },
     "execution_count": 174,
     "metadata": {},
     "output_type": "execute_result"
    }
   ],
   "source": [
    "best_xgb = XGBClassifier(subsample= 0.6,n_estimators= 1000,max_depth= 6,learning_rate= 0.1,colsample_bytree= 1.0)\n",
    "\n",
    "best_xgb.fit(X_train_sample,y_train_sample)\n",
    "\n",
    "calb_clf = (best_xgb)\n",
    "\n",
    "calb_clf.fit(X_train_sample,y_train_sample)"
   ]
  },
  {
   "cell_type": "code",
   "execution_count": 177,
   "metadata": {},
   "outputs": [
    {
     "name": "stdout",
     "output_type": "stream",
     "text": [
      "The log loss for Train data is:  0.0019136619474531187\n"
     ]
    }
   ],
   "source": [
    "predict_y_train = calb_clf.predict_proba(X_train_sample)\n",
    "print(\"The log loss for Train data is: \",log_loss(y_train_sample,predict_y_train))"
   ]
  },
  {
   "cell_type": "code",
   "execution_count": 178,
   "metadata": {},
   "outputs": [
    {
     "name": "stdout",
     "output_type": "stream",
     "text": [
      "The log loss for Test data is:  1.6388172724467593\n"
     ]
    }
   ],
   "source": [
    "predict_y_test = calb_clf.predict_proba(X_test_sample)\n",
    "print(\"The log loss for Test data is: \",log_loss(y_test_sample,predict_y_test))"
   ]
  },
  {
   "cell_type": "code",
   "execution_count": 179,
   "metadata": {},
   "outputs": [],
   "source": [
    "\n",
    "y_train_pred = calb_clf.predict(X_train_sample)\n",
    "y_test_pred = calb_clf.predict(X_test_sample)"
   ]
  },
  {
   "cell_type": "code",
   "execution_count": 183,
   "metadata": {},
   "outputs": [
    {
     "name": "stdout",
     "output_type": "stream",
     "text": [
      "Train f1 score 1.0\n",
      "Test f1 score 0.8182554372975474\n"
     ]
    }
   ],
   "source": [
    "\n",
    "print('Train f1 score',f1_score(y_train_sample,y_train_pred))\n",
    "print('Test f1 score',f1_score(y_test_sample,y_test_pred))"
   ]
  },
  {
   "cell_type": "code",
   "execution_count": 184,
   "metadata": {},
   "outputs": [
    {
     "name": "stdout",
     "output_type": "stream",
     "text": [
      "Train confusion_matrix\n"
     ]
    },
    {
     "data": {
      "image/png": "[encoded data removed]",
      "text/plain": [
       "<Figure size 1440x288 with 6 Axes>"
      ]
     },
     "metadata": {},
     "output_type": "display_data"
    },
    {
     "name": "stdout",
     "output_type": "stream",
     "text": [
      "Test confusion_matrix\n"
     ]
    },
    {
     "data": {
      "image/png": "[encoded data removed]",
      "text/plain": [
       "<Figure size 1440x288 with 6 Axes>"
      ]
     },
     "metadata": {},
     "output_type": "display_data"
    }
   ],
   "source": [
    "print('Train confusion_matrix')\n",
    "plot_confusion_matrix(y_train_sample,y_train_pred)\n",
    "print('Test confusion_matrix')\n",
    "plot_confusion_matrix(y_test_sample,y_test_pred)"
   ]
  },
  {
   "cell_type": "code",
   "execution_count": 187,
   "metadata": {},
   "outputs": [
    {
     "data": {
      "image/png": "[encoded data removed]",
      "text/plain": [
       "<Figure size 432x288 with 1 Axes>"
      ]
     },
     "metadata": {},
     "output_type": "display_data"
    }
   ],
   "source": [
    "fpr,tpr,ths = roc_curve(y_test_sample,y_test_pred)\n",
    "auc_sc = auc(fpr, tpr)\n",
    "plt.plot(fpr, tpr, color='navy',label='ROC curve (area = %0.2f)' % auc_sc)\n",
    "plt.xlabel('False Positive Rate')\n",
    "plt.ylabel('True Positive Rate')\n",
    "plt.title('Receiver operating characteristic with test data')\n",
    "plt.legend()\n",
    "plt.grid()\n",
    "plt.show()"
   ]
  },
  {
   "cell_type": "code",
   "execution_count": 189,
   "metadata": {},
   "outputs": [
    {
     "data": {
      "image/png": "[encoded data removed]",
      "text/plain": [
       "<Figure size 720x864 with 1 Axes>"
      ]
     },
     "metadata": {},
     "output_type": "display_data"
    }
   ],
   "source": [
    "features = X_train_sample.columns\n",
    "importances = calb_clf.feature_importances_\n",
    "indices = (np.argsort(importances))[-25:]\n",
    "plt.figure(figsize=(10,12))\n",
    "plt.title('Feature Importances')\n",
    "plt.barh(range(len(indices)), importances[indices], color='r', align='center')\n",
    "plt.yticks(range(len(indices)), [features[i] for i in indices])\n",
    "plt.xlabel('Relative Importance')\n",
    "plt.show()"
   ]
  },
  {
   "cell_type": "code",
   "execution_count": null,
   "metadata": {},
   "outputs": [],
   "source": []
  }
 ],
 "metadata": {
  "kernelspec": {
   "display_name": "Python 3",
   "language": "python",
   "name": "python3"
  },
  "language_info": {
   "codemirror_mode": {
    "name": "ipython",
    "version": 3
   },
   "file_extension": ".py",
   "mimetype": "text/x-python",
   "name": "python",
   "nbconvert_exporter": "python",
   "pygments_lexer": "ipython3",
   "version": "3.8.3"
  }
 },
 "nbformat": 4,
 "nbformat_minor": 4
}
